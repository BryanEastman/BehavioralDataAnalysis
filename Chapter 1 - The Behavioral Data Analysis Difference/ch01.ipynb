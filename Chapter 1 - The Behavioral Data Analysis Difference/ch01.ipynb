{
 "cells": [
  {
   "cell_type": "markdown",
   "id": "decent-playback",
   "metadata": {},
   "source": [
    "# Chapter 1: The Behavioral Data Analysis difference"
   ]
  },
  {
   "cell_type": "markdown",
   "id": "hazardous-scratch",
   "metadata": {},
   "source": [
    "## Confound it! The hidden dangers of letting regression sort it out"
   ]
  },
  {
   "cell_type": "markdown",
   "id": "younger-modification",
   "metadata": {},
   "source": [
    "### Data and libraries"
   ]
  },
  {
   "cell_type": "code",
   "execution_count": null,
   "id": "american-business",
   "metadata": {},
   "outputs": [],
   "source": [
    "import pandas as pd\n",
    "from statsmodels.formula.api import ols\n",
    "import matplotlib.pyplot as plt\n",
    "import seaborn as sns"
   ]
  },
  {
   "cell_type": "markdown",
   "id": "durable-million",
   "metadata": {},
   "source": [
    "### Why correlation is not causation: a confounder in action"
   ]
  },
  {
   "cell_type": "code",
   "execution_count": null,
   "id": "ancient-armor",
   "metadata": {},
   "outputs": [],
   "source": [
    "#Reading the data\n",
    "stand_data_df = pd.read_csv('chap1-stand_data.csv')"
   ]
  },
  {
   "cell_type": "code",
   "execution_count": null,
   "id": "generic-anthropology",
   "metadata": {},
   "outputs": [],
   "source": [
    "#Plotting ice-cream sales against temperatures\n",
    "sns.scatterplot(x='temps', y='icecream_sales', data=stand_data_df)"
   ]
  },
  {
   "cell_type": "code",
   "execution_count": null,
   "id": "similar-backup",
   "metadata": {},
   "outputs": [],
   "source": [
    "#Running linear regressions \n",
    "#Biased model (coeff is 1,145 but should be 1,000)\n",
    "model1 = ols(\"icecream_sales ~ temps\", data=stand_data_df)\n",
    "print(model1.fit().summary())"
   ]
  },
  {
   "cell_type": "code",
   "execution_count": null,
   "id": "identical-damages",
   "metadata": {},
   "outputs": [],
   "source": [
    "#correct model (coeffs are 1,000 and 20,000)\n",
    "model2 = ols(\"icecream_sales ~ temps + summer_months\", data=stand_data_df)\n",
    "print(model2.fit().summary())"
   ]
  },
  {
   "cell_type": "code",
   "execution_count": null,
   "id": "legal-senate",
   "metadata": {},
   "outputs": [],
   "source": [
    "#Model biased by extra controlling\n",
    "model3 = ols(\"icecream_sales ~ temps + summer_months + iced_coffee_sales\", \n",
    "             data=stand_data_df)\n",
    "print(model3.fit().summary())"
   ]
  },
  {
   "cell_type": "code",
   "execution_count": null,
   "id": "eligible-canyon",
   "metadata": {},
   "outputs": [],
   "source": [
    "##### Second example: survey data #####\n",
    "\n",
    "#Reading the data\n",
    "survey_data_df = pd.read_csv('chap1-survey_data.csv')\n",
    "\n",
    "#Reformatting shopped variable to binary\n",
    "survey_data_df['shopped'] = pd.Categorical(survey_data_df.shopped, \n",
    "                                      categories=[0,1], \n",
    "                                      ordered = True)"
   ]
  },
  {
   "cell_type": "code",
   "execution_count": null,
   "id": "patient-democrat",
   "metadata": {},
   "outputs": [],
   "source": [
    "### Plotting relationships between variables in the data\n",
    "\n",
    "fig, (ax1, ax2, ax3) = plt.subplots(ncols=3)\n",
    "#Scatterplot of chocolate versus vanilla taste \n",
    "ax1.set_xlim(0,28)\n",
    "ax1.set_ylim(0,28)\n",
    "ax1.set_xlabel('Taste for vanilla')\n",
    "ax1.set_ylabel('Taste for chocolate')\n",
    "sns.regplot(x='vanilla', y='chocolate', data=survey_data_df, \n",
    "            line_kws={'color':'black'}, ax=ax1)\n",
    "#Boxplot of vanilla taste against shopping behavior\n",
    "ax2.set_xlabel('Shopped (Y/N)')\n",
    "ax2.set_ylabel('Taste for vanilla')\n",
    "sns.boxplot(x='shopped', y='vanilla', data=survey_data_df, ax=ax2)\n",
    "#Boxplot of chocolate taste against shopping behavior\n",
    "ax3.set_xlabel('Shopped (Y/N)')\n",
    "ax3.set_ylabel('Taste for chocolate')\n",
    "sns.boxplot(x='shopped', y='chocolate', data=survey_data_df, ax=ax3)\n",
    "\n",
    "fig.tight_layout()\n",
    "plt.show()"
   ]
  },
  {
   "cell_type": "code",
   "execution_count": null,
   "id": "monetary-updating",
   "metadata": {},
   "outputs": [],
   "source": [
    "### Plotting same scatterplot but for shoppers only\n",
    "\n",
    "#Scatterplot of chocolate versus vanilla taste \n",
    "sns.regplot(x='vanilla', y='chocolate', \n",
    "            data=survey_data_df[survey_data_df.shopped==1], \n",
    "            line_kws={'color':'black'})"
   ]
  }
 ],
 "metadata": {
  "kernelspec": {
   "display_name": "Python 3",
   "language": "python",
   "name": "python3"
  },
  "language_info": {
   "codemirror_mode": {
    "name": "ipython",
    "version": 3
   },
   "file_extension": ".py",
   "mimetype": "text/x-python",
   "name": "python",
   "nbconvert_exporter": "python",
   "pygments_lexer": "ipython3",
   "version": "3.7.9"
  }
 },
 "nbformat": 4,
 "nbformat_minor": 5
}
