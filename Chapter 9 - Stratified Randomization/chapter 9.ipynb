{
 "cells": [
  {
   "cell_type": "code",
   "execution_count": 2,
   "metadata": {},
   "outputs": [],
   "source": [
    "# Common packages\n",
    "import pandas as pd\n",
    "import numpy as np\n",
    "import statsmodels.formula.api as smf\n",
    "from statsmodels.formula.api import ols\n",
    "import seaborn as sns\n",
    "\n",
    "# Chapter-specific packages\n",
    "import random # For functions sample() and shuffle()\n",
    "# To rescale numeric variables\n",
    "from sklearn.preprocessing import MinMaxScaler\n",
    "# To one-hot encode cat. variables\n",
    "from sklearn.preprocessing import OneHotEncoder"
   ]
  },
  {
   "cell_type": "code",
   "execution_count": 12,
   "metadata": {},
   "outputs": [],
   "source": [
    "\n",
    "##### Loading the data #####\n",
    "hist_data_df = pd.read_csv('chap9-historical_data.csv')\n",
    "exp_data_df = pd.read_csv('chap9-experimental_data.csv')\n",
    "\n",
    "### Minor data formatting\n",
    "\n",
    "# Reformating categorical and id variables\n",
    "hist_data_df['tier'] = pd.Categorical(hist_data_df.tier, categories=[3,2,1], ordered = True)\n",
    "hist_data_df['ID'] = hist_data_df.ID.astype(str)\n",
    "exp_data_df['tier'] = pd.Categorical(exp_data_df.tier, categories=[3,2,1], ordered = True)\n",
    "exp_data_df['ID'] = exp_data_df.ID.astype(str)\n"
   ]
  },
  {
   "cell_type": "code",
   "execution_count": 4,
   "metadata": {},
   "outputs": [
    {
     "data": {
      "text/html": [
       "<div>\n",
       "<style scoped>\n",
       "    .dataframe tbody tr th:only-of-type {\n",
       "        vertical-align: middle;\n",
       "    }\n",
       "\n",
       "    .dataframe tbody tr th {\n",
       "        vertical-align: top;\n",
       "    }\n",
       "\n",
       "    .dataframe thead th {\n",
       "        text-align: right;\n",
       "    }\n",
       "</style>\n",
       "<table border=\"1\" class=\"dataframe\">\n",
       "  <thead>\n",
       "    <tr style=\"text-align: right;\">\n",
       "      <th></th>\n",
       "      <th>ID</th>\n",
       "      <th>grp</th>\n",
       "    </tr>\n",
       "  </thead>\n",
       "  <tbody>\n",
       "    <tr>\n",
       "      <th>1669</th>\n",
       "      <td>1670</td>\n",
       "      <td>2</td>\n",
       "    </tr>\n",
       "    <tr>\n",
       "      <th>1460</th>\n",
       "      <td>1461</td>\n",
       "      <td>1</td>\n",
       "    </tr>\n",
       "    <tr>\n",
       "      <th>4598</th>\n",
       "      <td>4599</td>\n",
       "      <td>3</td>\n",
       "    </tr>\n",
       "    <tr>\n",
       "      <th>668</th>\n",
       "      <td>669</td>\n",
       "      <td>3</td>\n",
       "    </tr>\n",
       "    <tr>\n",
       "      <th>3388</th>\n",
       "      <td>3389</td>\n",
       "      <td>0</td>\n",
       "    </tr>\n",
       "    <tr>\n",
       "      <th>...</th>\n",
       "      <td>...</td>\n",
       "      <td>...</td>\n",
       "    </tr>\n",
       "    <tr>\n",
       "      <th>3722</th>\n",
       "      <td>3723</td>\n",
       "      <td>1</td>\n",
       "    </tr>\n",
       "    <tr>\n",
       "      <th>938</th>\n",
       "      <td>939</td>\n",
       "      <td>0</td>\n",
       "    </tr>\n",
       "    <tr>\n",
       "      <th>2467</th>\n",
       "      <td>2468</td>\n",
       "      <td>3</td>\n",
       "    </tr>\n",
       "    <tr>\n",
       "      <th>4565</th>\n",
       "      <td>4566</td>\n",
       "      <td>2</td>\n",
       "    </tr>\n",
       "    <tr>\n",
       "      <th>4285</th>\n",
       "      <td>4286</td>\n",
       "      <td>1</td>\n",
       "    </tr>\n",
       "  </tbody>\n",
       "</table>\n",
       "<p>2000 rows × 2 columns</p>\n",
       "</div>"
      ],
      "text/plain": [
       "        ID  grp\n",
       "1669  1670    2\n",
       "1460  1461    1\n",
       "4598  4599    3\n",
       "668    669    3\n",
       "3388  3389    0\n",
       "...    ...  ...\n",
       "3722  3723    1\n",
       "938    939    0\n",
       "2467  2468    3\n",
       "4565  4566    2\n",
       "4285  4286    1\n",
       "\n",
       "[2000 rows x 2 columns]"
      ]
     },
     "execution_count": 4,
     "metadata": {},
     "output_type": "execute_result"
    }
   ],
   "source": [
    "\n",
    "def no_strat_assgnt(df, Nexp, k):\n",
    "    temp = pd.DataFrame({'ID': df.ID.unique()})\n",
    "    temp = temp.sample(Nexp)\n",
    "    grp = list(range(k)) * int(Nexp / k)\n",
    "    random.shuffle(grp)\n",
    "    temp['grp'] = grp\n",
    "    return temp\n",
    "\n",
    "no_strat_assgnt(hist_data_df, 2000, k=4)"
   ]
  },
  {
   "cell_type": "code",
   "execution_count": 14,
   "metadata": {},
   "outputs": [
    {
     "name": "stdout",
     "output_type": "stream",
     "text": [
      "<class 'pandas.core.frame.DataFrame'>\n",
      "RangeIndex: 175000 entries, 0 to 174999\n",
      "Data columns (total 7 columns):\n",
      " #   Column      Non-Null Count   Dtype   \n",
      "---  ------      --------------   -----   \n",
      " 0   ID          175000 non-null  object  \n",
      " 1   period      175000 non-null  int64   \n",
      " 2   month       175000 non-null  int64   \n",
      " 3   sq_ft       175000 non-null  float64 \n",
      " 4   tier        175000 non-null  category\n",
      " 5   avg_review  175000 non-null  float64 \n",
      " 6   BPday       175000 non-null  float64 \n",
      "dtypes: category(1), float64(3), int64(2), object(1)\n",
      "memory usage: 8.2+ MB\n"
     ]
    }
   ],
   "source": [
    "hist_data_df.info()"
   ]
  },
  {
   "cell_type": "code",
   "execution_count": 25,
   "metadata": {},
   "outputs": [
    {
     "data": {
      "text/plain": [
       "array([[821.67548629,   9.39342726,  45.93411704,   0.        ,\n",
       "          1.        ,   0.        ],\n",
       "       [977.68632137,  10.        ,  47.02031206,   0.        ,\n",
       "          1.        ,   0.        ],\n",
       "       [772.24643725,   5.05391337,  36.03493243,   1.        ,\n",
       "          0.        ,   0.        ],\n",
       "       ...,\n",
       "       [931.23973925,   7.82448952,  42.00859311,   0.        ,\n",
       "          0.        ,   1.        ],\n",
       "       [792.20446113,   4.60368051,  32.83121812,   0.        ,\n",
       "          0.        ,   1.        ],\n",
       "       [859.06503328,   7.91434225,  42.09540755,   0.        ,\n",
       "          0.        ,   1.        ]])"
      ]
     },
     "execution_count": 25,
     "metadata": {},
     "output_type": "execute_result"
    }
   ],
   "source": [
    "def strat_prep_fun(df):\n",
    "    temp = df.copy()\n",
    "\n",
    "    temp = temp.groupby(['ID','tier'], observed=False).agg(\n",
    "        sq_ft = ('sq_ft','mean'),\n",
    "        avg_review = ('avg_review','mean'),\n",
    "        BPday = ('BPday','mean')\n",
    "    )\n",
    "    temp = temp.dropna().reset_index()\n",
    "\n",
    "    num_df = temp.copy().select_dtypes('float64')\n",
    "    cat_df = temp.copy().select_dtypes('category')\n",
    "\n",
    "    scaler = MinMaxScaler()\n",
    "    scaler.fit(num_df)\n",
    "    num_np = scaler.transform(num_df)\n",
    "    enc = OneHotEncoder(handle_unknown='ignore')\n",
    "    enc.fit(cat_df)\n",
    "    cat_np = enc.transform(cat_df).toarray()\n",
    "\n",
    "    data_np = np.concatenate((num_df, cat_np), axis=1)\n",
    "    del num_df, num_np, cat_df, enc, scaler\n",
    "    return data_np\n",
    "\n",
    "prepared = strat_prep_fun(hist_data_df)\n",
    "\n",
    "prepared"
   ]
  },
  {
   "cell_type": "code",
   "execution_count": null,
   "metadata": {},
   "outputs": [],
   "source": []
  }
 ],
 "metadata": {
  "kernelspec": {
   "display_name": "bda",
   "language": "python",
   "name": "python3"
  },
  "language_info": {
   "codemirror_mode": {
    "name": "ipython",
    "version": 3
   },
   "file_extension": ".py",
   "mimetype": "text/x-python",
   "name": "python",
   "nbconvert_exporter": "python",
   "pygments_lexer": "ipython3",
   "version": "3.12.0"
  }
 },
 "nbformat": 4,
 "nbformat_minor": 2
}
