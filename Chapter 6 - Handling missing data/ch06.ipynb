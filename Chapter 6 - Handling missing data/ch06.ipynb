{
 "cells": [
  {
   "cell_type": "markdown",
   "id": "decent-playback",
   "metadata": {},
   "source": [
    "# Chapter 5: Handling Missing Data"
   ]
  },
  {
   "cell_type": "markdown",
   "id": "comprehensive-batman",
   "metadata": {},
   "source": [
    "## Data and libraries"
   ]
  },
  {
   "cell_type": "code",
   "execution_count": null,
   "id": "extra-negative",
   "metadata": {},
   "outputs": [],
   "source": [
    "import pandas as pd\n",
    "import numpy as np\n",
    "import statsmodels.api as sm\n",
    "from statsmodels.imputation import mice\n",
    "import statsmodels.formula.api as smf\n",
    "from statsmodels.formula.api import ols\n",
    "import seaborn as sn\n",
    "import matplotlib.pyplot as plt"
   ]
  },
  {
   "cell_type": "code",
   "execution_count": null,
   "id": "political-government",
   "metadata": {},
   "outputs": [],
   "source": [
    "#Loading the data\n",
    "complete_data_df = pd.read_csv(\"chap5-complete_data.csv\")\n",
    "available_data_df = pd.read_csv(\"chap5-available_data.csv\")\n",
    "available_data_supp_df = pd.read_csv(\"chap5-available_data_supp.csv\")"
   ]
  },
  {
   "cell_type": "code",
   "execution_count": null,
   "id": "regional-relations",
   "metadata": {},
   "outputs": [],
   "source": [
    "#Reformatting factor variables\n",
    "complete_data_df['gender'] = pd.Categorical(complete_data_df.gender, \n",
    "                                      categories=['M','F'])\n",
    "available_data_df['gender'] = pd.Categorical(available_data_df.gender, \n",
    "                                      categories=['M','F'])\n",
    "complete_data_df['state'] = pd.Categorical(complete_data_df.state,\n",
    "                                            categories=['A','B','C'])\n",
    "available_data_df['state'] = pd.Categorical(available_data_df.state,\n",
    "                                            categories=['A','B','C'])"
   ]
  },
  {
   "cell_type": "markdown",
   "id": "steady-helmet",
   "metadata": {},
   "source": [
    "## Visualizing missing data"
   ]
  },
  {
   "cell_type": "markdown",
   "id": "focused-modification",
   "metadata": {},
   "source": [
    "### Amount of missing data"
   ]
  },
  {
   "cell_type": "code",
   "execution_count": null,
   "id": "distinct-rental",
   "metadata": {},
   "outputs": [],
   "source": [
    "### Visualizing missing data \"a la\" VIM\n",
    "\n",
    "#Identifying columns with any missing data\n",
    "all_cols = available_data_df.columns.tolist()\n",
    "miss_cols = [col for col in all_cols if available_data_df[col].isnull().sum()]\n",
    "if miss_cols == all_cols: available_data_df['index'] = available_data_df.index\n",
    "print(available_data_df.isnull().groupby(miss_cols).count())\n",
    "print(available_data_df.isnull().sum())"
   ]
  },
  {
   "cell_type": "code",
   "execution_count": null,
   "id": "broad-compact",
   "metadata": {},
   "outputs": [],
   "source": [
    "#Quantifying the amount of missing data for a variable   \n",
    "min_data_df = available_data_df.copy()\n",
    "min_data_df.neuro = np.where(min_data_df.neuro.isna(), min_data_df.neuro.min(), \n",
    "                             min_data_df.neuro)\n",
    "\n",
    "max_data_df = available_data_df.copy()\n",
    "max_data_df.neuro = np.where(max_data_df.neuro.isna(), max_data_df.neuro.max(), \n",
    "                             max_data_df.neuro)\n",
    "\n",
    "\n",
    "print(ols(\"bkg_amt~neuro\", data=min_data_df).fit().summary())\n",
    "print(ols(\"bkg_amt~neuro\", data=max_data_df).fit().summary())"
   ]
  },
  {
   "cell_type": "markdown",
   "id": "under-concert",
   "metadata": {},
   "source": [
    "### Correlation of missingness"
   ]
  },
  {
   "cell_type": "code",
   "execution_count": null,
   "id": "normal-biotechnology",
   "metadata": {},
   "outputs": [],
   "source": [
    "#Loading the data\n",
    "tacoma_df = pd.read_csv(\"chap5-tacoma.csv\")\n",
    "tampa_df = pd.read_csv(\"chap5-tampa.csv\")"
   ]
  },
  {
   "cell_type": "code",
   "execution_count": null,
   "id": "unusual-dealing",
   "metadata": {},
   "outputs": [],
   "source": [
    "# Building the correlation matrices\n",
    "tampa_miss_df = tampa_df.copy().drop(['ID'], axis=1).isna()\n",
    "tacoma_miss_df = tacoma_df.copy().drop(['ID'], axis=1).isna()\n",
    "\n",
    "tampa_cor = tampa_miss_df.corr()\n",
    "tacoma_cor = tacoma_miss_df.corr()\n",
    "\n",
    "sn.heatmap(tampa_cor, annot=True, vmin=-0.05, vmax=1, cmap=\"YlGnBu\")\n",
    "plt.show()\n",
    "sn.heatmap(tacoma_cor, annot=True, vmin=-0.05, vmax=1, cmap=\"YlGnBu\")\n",
    "plt.show()"
   ]
  },
  {
   "cell_type": "code",
   "execution_count": null,
   "id": "effective-shepherd",
   "metadata": {},
   "outputs": [],
   "source": [
    "#Sources of missingness for extraversion\n",
    "available_data_df['md_extra'] = available_data_df['extra'].isnull().astype(float)\n",
    "md_extra_mod =smf.logit('md_extra~age+open+neuro+gender+state+bkg_amt',\n",
    "                      data=available_data_df)\n",
    "md_extra_mod.fit().summary()"
   ]
  },
  {
   "cell_type": "code",
   "execution_count": null,
   "id": "blank-flavor",
   "metadata": {},
   "outputs": [],
   "source": [
    "#Sources of missingness for state\n",
    "available_data_df['md_state'] = available_data_df['state'].isnull()\\\n",
    "    .astype(float)\n",
    "md_state_mod =smf.logit('md_state~age+open+extra+neuro+gender+bkg_amt',\n",
    "                      data=available_data_df)\n",
    "md_state_mod.fit(disp=0).summary()"
   ]
  },
  {
   "cell_type": "markdown",
   "id": "level-playing",
   "metadata": {},
   "source": [
    "## Handling missing data"
   ]
  },
  {
   "cell_type": "code",
   "execution_count": null,
   "id": "divided-samoa",
   "metadata": {},
   "outputs": [],
   "source": [
    "#One-hot encoding categorical variables\n",
    "gender_dummies = pd.get_dummies(available_data_df.gender, prefix='gender')\n",
    "state_dummies = pd.get_dummies(available_data_df.state, prefix='state')\n",
    "available_data_df =  pd.concat([available_data_df, \n",
    "                                gender_dummies, state_dummies], \n",
    "                               axis=1)\n",
    "available_data_df.gender_F = np.where(available_data_df.gender.isna(), \n",
    "                                      float('NaN'), available_data_df.gender_F)\n",
    "available_data_df.gender_M = np.where(available_data_df.gender.isna(), \n",
    "                                      float('NaN'), available_data_df.gender_M)\n",
    "available_data_df.state_A = np.where(available_data_df.state.isna(), \n",
    "                                     float('NaN'), available_data_df.state_A)\n",
    "available_data_df.state_B = np.where(available_data_df.state.isna(), \n",
    "                                     float('NaN'), available_data_df.state_B)\n",
    "available_data_df.state_C = np.where(available_data_df.state.isna(), \n",
    "                                     float('NaN'), available_data_df.state_C)\n",
    "available_data_df =  available_data_df.drop(['gender', 'state'], axis=1)"
   ]
  },
  {
   "cell_type": "code",
   "execution_count": null,
   "id": "widespread-vietnamese",
   "metadata": {},
   "outputs": [],
   "source": [
    "#MICE imputation\n",
    "MI_data_df = mice.MICEData(available_data_df)                                 \n",
    "fit = mice.MICE(model_formula='bkg_amt ~ age + open + extra + neuro + \\\n",
    "                gender_M + gender_F + state_A + state_B + state_C', \n",
    "                model_class=sm.OLS, data=MI_data_df)                \n",
    "MI_summ = fit.fit(n_imputations=20).summary()  \n",
    "print(MI_summ)"
   ]
  },
  {
   "cell_type": "code",
   "execution_count": null,
   "id": "premier-carroll",
   "metadata": {},
   "outputs": [],
   "source": [
    "#Adding auxiliary variables\n",
    "augmented_data_df = pd.concat([available_data_df, available_data_supp_df], \n",
    "                              axis=1)\n",
    "MI_data_aux_df = mice.MICEData(augmented_data_df)   "
   ]
  }
 ],
 "metadata": {
  "kernelspec": {
   "display_name": "Python 3",
   "language": "python",
   "name": "python3"
  },
  "language_info": {
   "codemirror_mode": {
    "name": "ipython",
    "version": 3
   },
   "file_extension": ".py",
   "mimetype": "text/x-python",
   "name": "python",
   "nbconvert_exporter": "python",
   "pygments_lexer": "ipython3",
   "version": "3.7.9"
  }
 },
 "nbformat": 4,
 "nbformat_minor": 5
}
