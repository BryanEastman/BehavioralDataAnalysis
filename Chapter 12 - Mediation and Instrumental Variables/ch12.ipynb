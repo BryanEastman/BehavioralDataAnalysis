{
 "cells": [
  {
   "cell_type": "markdown",
   "id": "decent-playback",
   "metadata": {},
   "source": [
    "# Chapter 12: Mediation and instrumental variables"
   ]
  },
  {
   "cell_type": "markdown",
   "id": "published-skirt",
   "metadata": {},
   "source": [
    "## Mediation"
   ]
  },
  {
   "cell_type": "code",
   "execution_count": 1,
   "id": "induced-street",
   "metadata": {},
   "outputs": [],
   "source": [
    "#Common libraries\n",
    "import pandas as pd\n",
    "from statsmodels.formula.api import ols\n",
    "import numpy as np"
   ]
  },
  {
   "cell_type": "code",
   "execution_count": 3,
   "id": "alert-camcorder",
   "metadata": {},
   "outputs": [],
   "source": [
    "#Loading the data from the chapter on moderation\n",
    "hist_data_df = pd.read_csv('chap11-historical_data.csv')"
   ]
  },
  {
   "cell_type": "code",
   "execution_count": 4,
   "id": "basic-arrest",
   "metadata": {},
   "outputs": [
    {
     "data": {
      "text/html": [
       "<table class=\"simpletable\">\n",
       "<caption>OLS Regression Results</caption>\n",
       "<tr>\n",
       "  <th>Dep. Variable:</th>        <td>duration</td>     <th>  R-squared:         </th>  <td>   0.210</td>  \n",
       "</tr>\n",
       "<tr>\n",
       "  <th>Model:</th>                   <td>OLS</td>       <th>  Adj. R-squared:    </th>  <td>   0.210</td>  \n",
       "</tr>\n",
       "<tr>\n",
       "  <th>Method:</th>             <td>Least Squares</td>  <th>  F-statistic:       </th>  <td>1.660e+05</td> \n",
       "</tr>\n",
       "<tr>\n",
       "  <th>Date:</th>             <td>Fri, 02 Apr 2021</td> <th>  Prob (F-statistic):</th>   <td>  0.00</td>   \n",
       "</tr>\n",
       "<tr>\n",
       "  <th>Time:</th>                 <td>07:44:27</td>     <th>  Log-Likelihood:    </th> <td>-2.4178e+06</td>\n",
       "</tr>\n",
       "<tr>\n",
       "  <th>No. Observations:</th>      <td>623610</td>      <th>  AIC:               </th>  <td>4.836e+06</td> \n",
       "</tr>\n",
       "<tr>\n",
       "  <th>Df Residuals:</th>          <td>623608</td>      <th>  BIC:               </th>  <td>4.836e+06</td> \n",
       "</tr>\n",
       "<tr>\n",
       "  <th>Df Model:</th>              <td>     1</td>      <th>                     </th>      <td> </td>     \n",
       "</tr>\n",
       "<tr>\n",
       "  <th>Covariance Type:</th>      <td>nonrobust</td>    <th>                     </th>      <td> </td>     \n",
       "</tr>\n",
       "</table>\n",
       "<table class=\"simpletable\">\n",
       "<tr>\n",
       "      <td></td>         <th>coef</th>     <th>std err</th>      <th>t</th>      <th>P>|t|</th>  <th>[0.025</th>    <th>0.975]</th>  \n",
       "</tr>\n",
       "<tr>\n",
       "  <th>Intercept</th> <td>   23.8039</td> <td>    0.018</td> <td> 1287.327</td> <td> 0.000</td> <td>   23.768</td> <td>   23.840</td>\n",
       "</tr>\n",
       "<tr>\n",
       "  <th>play_area</th> <td>   12.5570</td> <td>    0.031</td> <td>  407.397</td> <td> 0.000</td> <td>   12.497</td> <td>   12.617</td>\n",
       "</tr>\n",
       "</table>\n",
       "<table class=\"simpletable\">\n",
       "<tr>\n",
       "  <th>Omnibus:</th>       <td>65895.576</td> <th>  Durbin-Watson:     </th> <td>   1.979</td> \n",
       "</tr>\n",
       "<tr>\n",
       "  <th>Prob(Omnibus):</th>  <td> 0.000</td>   <th>  Jarque-Bera (JB):  </th> <td>95301.029</td>\n",
       "</tr>\n",
       "<tr>\n",
       "  <th>Skew:</th>           <td> 0.817</td>   <th>  Prob(JB):          </th> <td>    0.00</td> \n",
       "</tr>\n",
       "<tr>\n",
       "  <th>Kurtosis:</th>       <td> 3.999</td>   <th>  Cond. No.          </th> <td>    2.42</td> \n",
       "</tr>\n",
       "</table><br/><br/>Notes:<br/>[1] Standard Errors assume that the covariance matrix of the errors is correctly specified."
      ],
      "text/plain": [
       "<class 'statsmodels.iolib.summary.Summary'>\n",
       "\"\"\"\n",
       "                            OLS Regression Results                            \n",
       "==============================================================================\n",
       "Dep. Variable:               duration   R-squared:                       0.210\n",
       "Model:                            OLS   Adj. R-squared:                  0.210\n",
       "Method:                 Least Squares   F-statistic:                 1.660e+05\n",
       "Date:                Fri, 02 Apr 2021   Prob (F-statistic):               0.00\n",
       "Time:                        07:44:27   Log-Likelihood:            -2.4178e+06\n",
       "No. Observations:              623610   AIC:                         4.836e+06\n",
       "Df Residuals:                  623608   BIC:                         4.836e+06\n",
       "Df Model:                           1                                         \n",
       "Covariance Type:            nonrobust                                         \n",
       "==============================================================================\n",
       "                 coef    std err          t      P>|t|      [0.025      0.975]\n",
       "------------------------------------------------------------------------------\n",
       "Intercept     23.8039      0.018   1287.327      0.000      23.768      23.840\n",
       "play_area     12.5570      0.031    407.397      0.000      12.497      12.617\n",
       "==============================================================================\n",
       "Omnibus:                    65895.576   Durbin-Watson:                   1.979\n",
       "Prob(Omnibus):                  0.000   Jarque-Bera (JB):            95301.029\n",
       "Skew:                           0.817   Prob(JB):                         0.00\n",
       "Kurtosis:                       3.999   Cond. No.                         2.42\n",
       "==============================================================================\n",
       "\n",
       "Notes:\n",
       "[1] Standard Errors assume that the covariance matrix of the errors is correctly specified.\n",
       "\"\"\""
      ]
     },
     "execution_count": 4,
     "metadata": {},
     "output_type": "execute_result"
    }
   ],
   "source": [
    "#Regressions used in the text\n",
    "ols(\"duration~play_area\", data=hist_data_df).fit().summary()"
   ]
  },
  {
   "cell_type": "code",
   "execution_count": 5,
   "id": "emotional-characteristic",
   "metadata": {},
   "outputs": [
    {
     "data": {
      "text/html": [
       "<table class=\"simpletable\">\n",
       "<caption>OLS Regression Results</caption>\n",
       "<tr>\n",
       "  <th>Dep. Variable:</th>    <td>groceries_purchases</td> <th>  R-squared:         </th>  <td>   0.164</td>  \n",
       "</tr>\n",
       "<tr>\n",
       "  <th>Model:</th>                    <td>OLS</td>         <th>  Adj. R-squared:    </th>  <td>   0.164</td>  \n",
       "</tr>\n",
       "<tr>\n",
       "  <th>Method:</th>              <td>Least Squares</td>    <th>  F-statistic:       </th>  <td>1.221e+05</td> \n",
       "</tr>\n",
       "<tr>\n",
       "  <th>Date:</th>              <td>Fri, 02 Apr 2021</td>   <th>  Prob (F-statistic):</th>   <td>  0.00</td>   \n",
       "</tr>\n",
       "<tr>\n",
       "  <th>Time:</th>                  <td>08:39:19</td>       <th>  Log-Likelihood:    </th> <td>-3.0049e+06</td>\n",
       "</tr>\n",
       "<tr>\n",
       "  <th>No. Observations:</th>       <td>623610</td>        <th>  AIC:               </th>  <td>6.010e+06</td> \n",
       "</tr>\n",
       "<tr>\n",
       "  <th>Df Residuals:</th>           <td>623608</td>        <th>  BIC:               </th>  <td>6.010e+06</td> \n",
       "</tr>\n",
       "<tr>\n",
       "  <th>Df Model:</th>               <td>     1</td>        <th>                     </th>      <td> </td>     \n",
       "</tr>\n",
       "<tr>\n",
       "  <th>Covariance Type:</th>       <td>nonrobust</td>      <th>                     </th>      <td> </td>     \n",
       "</tr>\n",
       "</table>\n",
       "<table class=\"simpletable\">\n",
       "<tr>\n",
       "      <td></td>         <th>coef</th>     <th>std err</th>      <th>t</th>      <th>P>|t|</th>  <th>[0.025</th>    <th>0.975]</th>  \n",
       "</tr>\n",
       "<tr>\n",
       "  <th>Intercept</th> <td>   49.1421</td> <td>    0.047</td> <td> 1036.494</td> <td> 0.000</td> <td>   49.049</td> <td>   49.235</td>\n",
       "</tr>\n",
       "<tr>\n",
       "  <th>play_area</th> <td>   27.6200</td> <td>    0.079</td> <td>  349.485</td> <td> 0.000</td> <td>   27.465</td> <td>   27.775</td>\n",
       "</tr>\n",
       "</table>\n",
       "<table class=\"simpletable\">\n",
       "<tr>\n",
       "  <th>Omnibus:</th>       <td>133724.275</td> <th>  Durbin-Watson:     </th>  <td>   1.985</td> \n",
       "</tr>\n",
       "<tr>\n",
       "  <th>Prob(Omnibus):</th>   <td> 0.000</td>   <th>  Jarque-Bera (JB):  </th> <td>331024.147</td>\n",
       "</tr>\n",
       "<tr>\n",
       "  <th>Skew:</th>            <td> 1.187</td>   <th>  Prob(JB):          </th>  <td>    0.00</td> \n",
       "</tr>\n",
       "<tr>\n",
       "  <th>Kurtosis:</th>        <td> 5.666</td>   <th>  Cond. No.          </th>  <td>    2.42</td> \n",
       "</tr>\n",
       "</table><br/><br/>Notes:<br/>[1] Standard Errors assume that the covariance matrix of the errors is correctly specified."
      ],
      "text/plain": [
       "<class 'statsmodels.iolib.summary.Summary'>\n",
       "\"\"\"\n",
       "                             OLS Regression Results                            \n",
       "===============================================================================\n",
       "Dep. Variable:     groceries_purchases   R-squared:                       0.164\n",
       "Model:                             OLS   Adj. R-squared:                  0.164\n",
       "Method:                  Least Squares   F-statistic:                 1.221e+05\n",
       "Date:                 Fri, 02 Apr 2021   Prob (F-statistic):               0.00\n",
       "Time:                         08:39:19   Log-Likelihood:            -3.0049e+06\n",
       "No. Observations:               623610   AIC:                         6.010e+06\n",
       "Df Residuals:                   623608   BIC:                         6.010e+06\n",
       "Df Model:                            1                                         \n",
       "Covariance Type:             nonrobust                                         \n",
       "==============================================================================\n",
       "                 coef    std err          t      P>|t|      [0.025      0.975]\n",
       "------------------------------------------------------------------------------\n",
       "Intercept     49.1421      0.047   1036.494      0.000      49.049      49.235\n",
       "play_area     27.6200      0.079    349.485      0.000      27.465      27.775\n",
       "==============================================================================\n",
       "Omnibus:                   133724.275   Durbin-Watson:                   1.985\n",
       "Prob(Omnibus):                  0.000   Jarque-Bera (JB):           331024.147\n",
       "Skew:                           1.187   Prob(JB):                         0.00\n",
       "Kurtosis:                       5.666   Cond. No.                         2.42\n",
       "==============================================================================\n",
       "\n",
       "Notes:\n",
       "[1] Standard Errors assume that the covariance matrix of the errors is correctly specified.\n",
       "\"\"\""
      ]
     },
     "execution_count": 5,
     "metadata": {},
     "output_type": "execute_result"
    }
   ],
   "source": [
    "ols(\"groceries_purchases~play_area\", data=hist_data_df).fit().summary()"
   ]
  },
  {
   "cell_type": "code",
   "execution_count": null,
   "id": "imperial-person",
   "metadata": {},
   "outputs": [],
   "source": [
    "ols(\"groceries_purchases~duration\", data=hist_data_df).fit().summary()"
   ]
  },
  {
   "cell_type": "code",
   "execution_count": null,
   "id": "rising-silicon",
   "metadata": {},
   "outputs": [],
   "source": [
    "ols(\"groceries_purchases~duration+play_area\", data=hist_data_df).fit().summary()"
   ]
  },
  {
   "cell_type": "code",
   "execution_count": null,
   "id": "blank-encounter",
   "metadata": {},
   "outputs": [],
   "source": [
    "def percentage_mediated_fun(dat_df):\n",
    "    total_effect = ols(\"groceries_purchases~play_area\", data=dat_df).fit(disp=0).params['play_area']\n",
    "    coeff_med1 = ols(\"duration~play_area\", data=dat_df).fit(disp=0).params['play_area']\n",
    "    coeff_med2 = ols(\"groceries_purchases~duration\", data=dat_df).fit(disp=0).params['duration']\n",
    "    mediated_effect = coeff_med1 * coeff_med2\n",
    "    percentage_mediated = mediated_effect / total_effect\n",
    "    return percentage_mediated \n",
    "percentage_mediated_fun(hist_data_df)"
   ]
  },
  {
   "cell_type": "code",
   "execution_count": null,
   "id": "stopped-reservoir",
   "metadata": {},
   "outputs": [],
   "source": [
    "def boot_CI_fun(dat_df, metric_fun, B = 100):\n",
    "  #Setting sample size\n",
    "  N = len(dat_df)\n",
    "  conf_level = 0.9\n",
    "  coeffs = []\n",
    "  \n",
    "  for i in range(B):\n",
    "      sim_data_df = dat_df.sample(n=N, replace = True)\n",
    "      coeff = metric_fun(sim_data_df)\n",
    "      coeffs.append(coeff)\n",
    "  \n",
    "  coeffs.sort()\n",
    "  start_idx = round(B * (1 - conf_level) / 2)\n",
    "  end_idx = - round(B * (1 - conf_level) / 2)\n",
    "  \n",
    "  confint = [coeffs[start_idx], coeffs[end_idx]]  \n",
    "  \n",
    "  return(confint)\n",
    "boot_CI_fun(hist_data_df, percentage_mediated_fun)"
   ]
  },
  {
   "cell_type": "markdown",
   "id": "american-consultancy",
   "metadata": {},
   "source": [
    "## Instrumental Variables"
   ]
  },
  {
   "cell_type": "markdown",
   "id": "musical-forty",
   "metadata": {},
   "source": [
    "### Data"
   ]
  },
  {
   "cell_type": "code",
   "execution_count": null,
   "id": "every-surrey",
   "metadata": {},
   "outputs": [],
   "source": [
    "#Loading the experimental data from the chapter 9\n",
    "exp_data_df = pd.read_csv('chap9-experimental_data.csv')\n",
    "\n",
    "#Reformat group variable to binary in experimental data\n",
    "exp_data_df.group = np.where(exp_data_df.group == 'treat', 1, 0)"
   ]
  },
  {
   "cell_type": "markdown",
   "id": "integrated-lighter",
   "metadata": {},
   "source": [
    "### Libraries"
   ]
  },
  {
   "cell_type": "code",
   "execution_count": null,
   "id": "focal-placement",
   "metadata": {},
   "outputs": [],
   "source": [
    "#Common libraries\n",
    "import pandas as pd\n",
    "from statsmodels.formula.api import ols\n",
    "import numpy as np\n",
    "\n",
    "from linearmodels.iv import IV2SLS"
   ]
  },
  {
   "cell_type": "markdown",
   "id": "satisfactory-davis",
   "metadata": {},
   "source": [
    "### Understanding and Applying IVs"
   ]
  },
  {
   "cell_type": "code",
   "execution_count": null,
   "id": "hollywood-dubai",
   "metadata": {},
   "outputs": [],
   "source": [
    "#Reduced regression, coeff = 1.6\n",
    "red_mod = ols(\"M6Spend~group+age+reason\", data=exp_data_df).fit(disp=0)\n",
    "red_mod.summary()"
   ]
  },
  {
   "cell_type": "code",
   "execution_count": null,
   "id": "surrounded-balance",
   "metadata": {},
   "outputs": [],
   "source": [
    "#First stage regression, coeff = 0.5\n",
    "S1_mod = ols(\"call_CSAT~group+age+reason\", data=exp_data_df).fit(disp=0)\n",
    "S1_mod.summary()"
   ]
  },
  {
   "cell_type": "code",
   "execution_count": null,
   "id": "miniature-moderator",
   "metadata": {},
   "outputs": [],
   "source": [
    "#Baseline (biased) regression, coeff = 4.00\n",
    "lm_mod = ols(\"M6Spend~call_CSAT+age+reason\", data=exp_data_df).fit(disp=0)\n",
    "lm_mod.summary()"
   ]
  },
  {
   "cell_type": "code",
   "execution_count": null,
   "id": "steady-helping",
   "metadata": {},
   "outputs": [],
   "source": [
    "#IV regression, coeff = 2.99\n",
    "iv_mod = IV2SLS.from_formula('M6Spend ~ 1 + age + reason + [call_CSAT ~ group]', \n",
    "                             exp_data_df).fit()\n",
    "print(iv_mod.params)"
   ]
  },
  {
   "cell_type": "code",
   "execution_count": null,
   "id": "unauthorized-crash",
   "metadata": {},
   "outputs": [],
   "source": []
  }
 ],
 "metadata": {
  "kernelspec": {
   "display_name": "Python 3",
   "language": "python",
   "name": "python3"
  },
  "language_info": {
   "codemirror_mode": {
    "name": "ipython",
    "version": 3
   },
   "file_extension": ".py",
   "mimetype": "text/x-python",
   "name": "python",
   "nbconvert_exporter": "python",
   "pygments_lexer": "ipython3",
   "version": "3.7.9"
  }
 },
 "nbformat": 4,
 "nbformat_minor": 5
}
