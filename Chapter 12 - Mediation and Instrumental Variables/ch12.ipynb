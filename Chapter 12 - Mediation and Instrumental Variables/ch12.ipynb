{
 "cells": [
  {
   "cell_type": "markdown",
   "id": "decent-playback",
   "metadata": {},
   "source": [
    "# Chapter 11: Mediation and instrumental variables"
   ]
  },
  {
   "cell_type": "markdown",
   "id": "published-skirt",
   "metadata": {},
   "source": [
    "## Mediation"
   ]
  },
  {
   "cell_type": "code",
   "execution_count": null,
   "id": "induced-street",
   "metadata": {},
   "outputs": [],
   "source": [
    "#Common libraries\n",
    "import pandas as pd\n",
    "from statsmodels.formula.api import ols\n",
    "import numpy as np"
   ]
  },
  {
   "cell_type": "code",
   "execution_count": null,
   "id": "alert-camcorder",
   "metadata": {},
   "outputs": [],
   "source": [
    "#Loading the data from the chapter on moderation\n",
    "hist_data_df = pd.read_csv('chap10-historical_data.csv')"
   ]
  },
  {
   "cell_type": "code",
   "execution_count": null,
   "id": "basic-arrest",
   "metadata": {},
   "outputs": [],
   "source": [
    "#Regressions used in the text\n",
    "ols(\"duration~play_area\", data=hist_data_df).fit().summary()"
   ]
  },
  {
   "cell_type": "code",
   "execution_count": null,
   "id": "emotional-characteristic",
   "metadata": {},
   "outputs": [],
   "source": [
    "ols(\"groceries_purchases~play_area\", data=hist_data_df).fit().summary()"
   ]
  },
  {
   "cell_type": "code",
   "execution_count": null,
   "id": "imperial-person",
   "metadata": {},
   "outputs": [],
   "source": [
    "ols(\"groceries_purchases~duration\", data=hist_data_df).fit().summary()"
   ]
  },
  {
   "cell_type": "code",
   "execution_count": null,
   "id": "rising-silicon",
   "metadata": {},
   "outputs": [],
   "source": [
    "ols(\"groceries_purchases~duration+play_area\", data=hist_data_df).fit().summary()"
   ]
  },
  {
   "cell_type": "code",
   "execution_count": null,
   "id": "blank-encounter",
   "metadata": {},
   "outputs": [],
   "source": [
    "def percentage_mediated_fun(dat_df):\n",
    "    total_effect = ols(\"groceries_purchases~play_area\", data=dat_df).fit(disp=0).params['play_area']\n",
    "    coeff_med1 = ols(\"duration~play_area\", data=dat_df).fit(disp=0).params['play_area']\n",
    "    coeff_med2 = ols(\"groceries_purchases~duration\", data=dat_df).fit(disp=0).params['duration']\n",
    "    mediated_effect = coeff_med1 * coeff_med2\n",
    "    percentage_mediated = mediated_effect / total_effect\n",
    "    return percentage_mediated \n",
    "percentage_mediated_fun(hist_data_df)"
   ]
  },
  {
   "cell_type": "code",
   "execution_count": null,
   "id": "stopped-reservoir",
   "metadata": {},
   "outputs": [],
   "source": [
    "def boot_CI_fun(dat_df, metric_fun, B = 100):\n",
    "  #Setting sample size\n",
    "  N = len(dat_df)\n",
    "  conf_level = 0.9\n",
    "  coeffs = []\n",
    "  \n",
    "  for i in range(B):\n",
    "      sim_data_df = dat_df.sample(n=N, replace = True)\n",
    "      coeff = metric_fun(sim_data_df)\n",
    "      coeffs.append(coeff)\n",
    "  \n",
    "  coeffs.sort()\n",
    "  start_idx = round(B * (1 - conf_level) / 2)\n",
    "  end_idx = - round(B * (1 - conf_level) / 2)\n",
    "  \n",
    "  confint = [coeffs[start_idx], coeffs[end_idx]]  \n",
    "  \n",
    "  return(confint)\n",
    "boot_CI_fun(hist_data_df, percentage_mediated_fun)"
   ]
  },
  {
   "cell_type": "markdown",
   "id": "american-consultancy",
   "metadata": {},
   "source": [
    "## Instrumental Variables"
   ]
  },
  {
   "cell_type": "markdown",
   "id": "musical-forty",
   "metadata": {},
   "source": [
    "### Data"
   ]
  },
  {
   "cell_type": "code",
   "execution_count": null,
   "id": "every-surrey",
   "metadata": {},
   "outputs": [],
   "source": [
    "#Loading the experimental data from the chapter 9\n",
    "exp_data_df = pd.read_csv('chap9-experimental_data.csv')\n",
    "\n",
    "#Reformat group variable to binary in experimental data\n",
    "exp_data_df.group = np.where(exp_data_df.group == 'treat', 1, 0)"
   ]
  },
  {
   "cell_type": "markdown",
   "id": "integrated-lighter",
   "metadata": {},
   "source": [
    "### Libraries"
   ]
  },
  {
   "cell_type": "code",
   "execution_count": null,
   "id": "focal-placement",
   "metadata": {},
   "outputs": [],
   "source": [
    "#Common libraries\n",
    "import pandas as pd\n",
    "from statsmodels.formula.api import ols\n",
    "import numpy as np\n",
    "\n",
    "from linearmodels.iv import IV2SLS"
   ]
  },
  {
   "cell_type": "markdown",
   "id": "satisfactory-davis",
   "metadata": {},
   "source": [
    "### Understanding and Applying IVs"
   ]
  },
  {
   "cell_type": "code",
   "execution_count": null,
   "id": "hollywood-dubai",
   "metadata": {},
   "outputs": [],
   "source": [
    "#Reduced regression, coeff = 1.6\n",
    "red_mod = ols(\"M6Spend~group+age+reason\", data=exp_data_df).fit(disp=0)\n",
    "red_mod.summary()"
   ]
  },
  {
   "cell_type": "code",
   "execution_count": null,
   "id": "surrounded-balance",
   "metadata": {},
   "outputs": [],
   "source": [
    "#First stage regression, coeff = 0.5\n",
    "S1_mod = ols(\"call_CSAT~group+age+reason\", data=exp_data_df).fit(disp=0)\n",
    "S1_mod.summary()"
   ]
  },
  {
   "cell_type": "code",
   "execution_count": null,
   "id": "miniature-moderator",
   "metadata": {},
   "outputs": [],
   "source": [
    "#Baseline (biased) regression, coeff = 4.00\n",
    "lm_mod = ols(\"M6Spend~call_CSAT+age+reason\", data=exp_data_df).fit(disp=0)\n",
    "lm_mod.summary()"
   ]
  },
  {
   "cell_type": "code",
   "execution_count": null,
   "id": "steady-helping",
   "metadata": {},
   "outputs": [],
   "source": [
    "#IV regression, coeff = 2.99\n",
    "iv_mod = IV2SLS.from_formula('M6Spend ~ 1 + age + reason + [call_CSAT ~ group]', \n",
    "                             exp_data_df).fit()\n",
    "print(iv_mod.params)"
   ]
  },
  {
   "cell_type": "code",
   "execution_count": null,
   "id": "unauthorized-crash",
   "metadata": {},
   "outputs": [],
   "source": []
  }
 ],
 "metadata": {
  "kernelspec": {
   "display_name": "Python 3",
   "language": "python",
   "name": "python3"
  },
  "language_info": {
   "codemirror_mode": {
    "name": "ipython",
    "version": 3
   },
   "file_extension": ".py",
   "mimetype": "text/x-python",
   "name": "python",
   "nbconvert_exporter": "python",
   "pygments_lexer": "ipython3",
   "version": "3.7.9"
  }
 },
 "nbformat": 4,
 "nbformat_minor": 5
}
