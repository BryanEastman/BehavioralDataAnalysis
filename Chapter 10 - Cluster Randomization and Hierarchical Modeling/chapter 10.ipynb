{
 "cells": [
  {
   "cell_type": "code",
   "execution_count": 1,
   "metadata": {},
   "outputs": [],
   "source": [
    "# Common libraries\n",
    "import pandas as pd\n",
    "import numpy as np\n",
    "import statsmodels.formula.api as smf\n",
    "from statsmodels.formula.api import ols\n",
    "import seaborn as sns\n",
    "\n",
    "# Chapter-specific libraries\n",
    "# To rescale numeric variables\n",
    "from sklearn.preprocessing import MinMaxScaler\n",
    "# To one-hot encode cat. variables\n",
    "from sklearn.preprocessing import OneHotEncoder"
   ]
  },
  {
   "cell_type": "code",
   "execution_count": 3,
   "metadata": {},
   "outputs": [],
   "source": [
    "es = pd.read_csv('ES_dat.csv')\n",
    "sig = pd.read_csv('sig_dat.csv')\n",
    "hist_df = pd.read_csv('chap10-historical_data.csv')\n",
    "exp_df = pd.read_csv('chap10-experimental_data.csv')"
   ]
  },
  {
   "cell_type": "code",
   "execution_count": 5,
   "metadata": {},
   "outputs": [
    {
     "name": "stdout",
     "output_type": "stream",
     "text": [
      "            Mixed Linear Model Regression Results\n",
      "=============================================================\n",
      "Model:              MixedLM Dependent Variable: call_CSAT    \n",
      "No. Observations:   695205  Method:             REML         \n",
      "No. Groups:         10      Scale:              1.1217       \n",
      "Min. group size:    54203   Log-Likelihood:     -1026427.7247\n",
      "Max. group size:    79250   Converged:          Yes          \n",
      "Mean group size:    69520.5                                  \n",
      "-------------------------------------------------------------\n",
      "                   Coef. Std.Err.    z    P>|z| [0.025 0.975]\n",
      "-------------------------------------------------------------\n",
      "Intercept          3.899    0.335  11.641 0.000  3.243  4.556\n",
      "reason[T.property] 0.199    0.003  74.786 0.000  0.194  0.205\n",
      "age                0.020    0.000 176.747 0.000  0.020  0.020\n",
      "Group Var          1.122    0.407                            \n",
      "=============================================================\n",
      "\n"
     ]
    }
   ],
   "source": [
    "mixed = smf.mixedlm(\"call_CSAT ~ reason + age\", data = hist_df, groups = hist_df['center_ID'])\n",
    "\n",
    "print(mixed.fit().summary())"
   ]
  },
  {
   "cell_type": "code",
   "execution_count": 6,
   "metadata": {},
   "outputs": [
    {
     "name": "stdout",
     "output_type": "stream",
     "text": [
      "            Mixed Linear Model Regression Results\n",
      "=============================================================\n",
      "Model:             MixedLM  Dependent Variable:  call_CSAT   \n",
      "No. Observations:  695205   Method:              REML        \n",
      "No. Groups:        10       Scale:               0.3904      \n",
      "Min. group size:   54203    Log-Likelihood:      -660498.6462\n",
      "Max. group size:   79250    Converged:           Yes         \n",
      "Mean group size:   69520.5                                   \n",
      "-------------------------------------------------------------\n",
      "                   Coef. Std.Err.    z    P>|z| [0.025 0.975]\n",
      "-------------------------------------------------------------\n",
      "Intercept          3.874    0.099  38.992 0.000  3.679  4.069\n",
      "reason[T.property] 0.200    0.002 126.789 0.000  0.196  0.203\n",
      "age                0.020    0.000 298.301 0.000  0.020  0.020\n",
      "rep_ID Var         1.904    0.303                            \n",
      "=============================================================\n",
      "\n"
     ]
    }
   ],
   "source": [
    "\n",
    "vcf = {\"rep_ID\": \"0+C(rep_ID)\"} # dictionary of nested variables as key, value defines\n",
    "                                # random intercept or random slope (varying by category) aka categorical variable\n",
    "                                # expressed as \"0+C(var)\" with var as nested variable\n",
    "\n",
    "mixed2 = smf.mixedlm(\n",
    "    \"call_CSAT ~ reason + age\",\n",
    "      data=hist_df,\n",
    "      groups=hist_df[\"center_ID\"],\n",
    "      vc_formula=vcf\n",
    "      )\n",
    "print(mixed2.fit().summary())"
   ]
  }
 ],
 "metadata": {
  "kernelspec": {
   "display_name": "bda",
   "language": "python",
   "name": "python3"
  },
  "language_info": {
   "codemirror_mode": {
    "name": "ipython",
    "version": 3
   },
   "file_extension": ".py",
   "mimetype": "text/x-python",
   "name": "python",
   "nbconvert_exporter": "python",
   "pygments_lexer": "ipython3",
   "version": "3.12.0"
  }
 },
 "nbformat": 4,
 "nbformat_minor": 2
}
