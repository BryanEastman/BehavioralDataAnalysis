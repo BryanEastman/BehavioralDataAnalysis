{
 "cells": [
  {
   "cell_type": "markdown",
   "id": "decent-playback",
   "metadata": {},
   "source": [
    "# Chapter 3: Building Causal Diagrams From Scratch"
   ]
  },
  {
   "cell_type": "markdown",
   "id": "comprehensive-batman",
   "metadata": {},
   "source": [
    "## Business problem and data setup"
   ]
  },
  {
   "cell_type": "markdown",
   "id": "formal-transparency",
   "metadata": {},
   "source": [
    "### Data and libraries"
   ]
  },
  {
   "cell_type": "code",
   "execution_count": null,
   "id": "extra-negative",
   "metadata": {},
   "outputs": [],
   "source": [
    "#Importing libraries\n",
    "import pandas as pd\n",
    "import numpy as np\n",
    "import statsmodels.api as sm\n",
    "from math import sqrt\n",
    "import seaborn as sns\n",
    "import matplotlib.pyplot as plt"
   ]
  },
  {
   "cell_type": "code",
   "execution_count": null,
   "id": "political-government",
   "metadata": {},
   "outputs": [],
   "source": [
    "#Loading the data\n",
    "dat_df = pd.read_csv(\"chap3-hotel_booking_case_study.csv\")"
   ]
  },
  {
   "cell_type": "code",
   "execution_count": null,
   "id": "modern-craft",
   "metadata": {},
   "outputs": [],
   "source": [
    "#Reducing the number of values for Country of origin by keeping most frequent countries only\n",
    "#and aggregating the remaining ones under \"Other\"\n",
    "countries_df = dat_df.groupby('Country').agg(pct = ('NRDeposit', lambda x: len(x)/len(dat_df))).\\\n",
    "sort_values(by=['pct'], ascending = False)\n",
    "top_countries_df = countries_df.loc[countries_df.pct >= 0.01].reset_index()\n",
    "top_countries_lst = top_countries_df['Country'].tolist()\n",
    "print(top_countries_lst)\n",
    "dat_df['Country'] = np.where(dat_df['Country'].isin(top_countries_lst), dat_df['Country'], 'Other')"
   ]
  },
  {
   "cell_type": "markdown",
   "id": "private-charleston",
   "metadata": {},
   "source": [
    "### Understanding the relationship of interest"
   ]
  },
  {
   "cell_type": "code",
   "execution_count": null,
   "id": "changed-threat",
   "metadata": {},
   "outputs": [],
   "source": [
    "#Cancellation rate by deposit types\n",
    "table_cnt = dat_df.groupby(['NRDeposit', 'IsCanceled']).agg(cnt = ('Country', lambda x: len(x)))\n",
    "print(table_cnt)"
   ]
  },
  {
   "cell_type": "code",
   "execution_count": null,
   "id": "rural-consolidation",
   "metadata": {},
   "outputs": [],
   "source": [
    "table_pct = table_cnt.groupby(level=0).apply(lambda x: 100 * x/float(x.sum()))\n",
    "print(table_pct)"
   ]
  },
  {
   "cell_type": "markdown",
   "id": "immediate-understanding",
   "metadata": {},
   "source": [
    "## Validate observable variables to include based on data"
   ]
  },
  {
   "cell_type": "code",
   "execution_count": null,
   "id": "tough-surge",
   "metadata": {},
   "outputs": [],
   "source": [
    "### Applying Cramer's V\n",
    "#Formula from https://en.wikipedia.org/wiki/Cram%C3%A9r's_V\n",
    "from scipy.stats import chi2_contingency \n",
    "\n",
    "def  CramerV(var1, var2):\n",
    "    pivot_tb = pd.crosstab(var1, var2, margins=False)\n",
    "    chi_sq, _, _, _ = chi2_contingency(pivot_tb) \n",
    "    n = len(var1)\n",
    "    k = len(var1.unique())\n",
    "    r = len(var2.unique())\n",
    "    V = sqrt((chi_sq/n)/(min(k-1, r-1)))\n",
    "    return V\n",
    "\n",
    "V= CramerV(dat_df['NRDeposit'], dat_df['IsCanceled'])   \n",
    "print(V)"
   ]
  },
  {
   "cell_type": "code",
   "execution_count": null,
   "id": "classified-arena",
   "metadata": {},
   "outputs": [],
   "source": [
    "#Shortening column names\n",
    "dat_df.rename(columns=\n",
    "              {\"CustomerType\": \"CustTyp\",\n",
    "               \"DistributionChannel\": \"DistCh\",\n",
    "               \"IsRepeatedGuest\": \"RepGst\",\n",
    "               \"MarketSegment\": \"MktSgmt\",\n",
    "               \"IsCanceled\": \"IsCanc\",\n",
    "               \"PreviousCancellations\": \"PrevCan\",\n",
    "               \"NRDeposit\": \"NRDep\"},\n",
    "              inplace=True)\n",
    "print(dat_df.columns)"
   ]
  },
  {
   "cell_type": "code",
   "execution_count": null,
   "id": "dimensional-spray",
   "metadata": {},
   "outputs": [],
   "source": [
    "#Creating a dataframe with the numerical and binary variables only\n",
    "num_dat_df = dat_df.copy().select_dtypes(include=['int64', 'float64'])\n",
    "num_dat_df.columns"
   ]
  },
  {
   "cell_type": "code",
   "execution_count": null,
   "id": "adopted-trauma",
   "metadata": {},
   "outputs": [],
   "source": [
    "#Creating the correlation matrix for numerical and binary variables only\n",
    "num_corr = num_dat_df.corr()\n",
    "print(num_corr)\n",
    "\n",
    "f, ax = plt.subplots(figsize=(10, 8))\n",
    "sns.heatmap(num_corr, mask=np.zeros_like(num_corr, dtype=np.bool), cmap=sns.diverging_palette(220, 10, as_cmap=True),\n",
    "            square=True, ax=ax)"
   ]
  },
  {
   "cell_type": "code",
   "execution_count": null,
   "id": "acknowledged-organization",
   "metadata": {},
   "outputs": [],
   "source": [
    "#Convert variables to categorical \n",
    "dat_df['NRDep'] = pd.Categorical(dat_df.NRDep)\n",
    "dat_df['IsCanc'] = pd.Categorical(dat_df.IsCanc)\n",
    "dat_df['DistCh'] = pd.Categorical(dat_df.DistCh)\n",
    "dat_df['MktSgmt'] = pd.Categorical(dat_df.MktSgmt)\n",
    "dat_df['CustTyp'] = pd.Categorical(dat_df.CustTyp)\n",
    "dat_df['PrevCan'] = pd.Categorical(dat_df.PrevCan)\n",
    "dat_df['RepGst'] = pd.Categorical(dat_df.RepGst)\n",
    "dat_df['Country'] = pd.Categorical(dat_df.Country)\n",
    "dat_df['Quarter'] = pd.Categorical(dat_df.Quarter)\n",
    "dat_df.dtypes"
   ]
  },
  {
   "cell_type": "code",
   "execution_count": null,
   "id": "dried-shade",
   "metadata": {},
   "outputs": [],
   "source": [
    "# Calculating correlation matrix for the categorical and binary variables only\n",
    "def cat_corr_fun(dat_df):\n",
    "    \n",
    "    #Initialize output dataframe\n",
    "    cat_corr_df = pd.DataFrame(columns=['varI', 'varJ', 'corr'])\n",
    "    \n",
    "    #Subset to categorical variables only\n",
    "    cat_dat_df = dat_df.select_dtypes(exclude=['int64', 'float64'])\n",
    "    \n",
    "    \n",
    "    for varI in cat_dat_df.columns:\n",
    "        for varJ in cat_dat_df.columns:\n",
    "                corr = CramerV(cat_dat_df[varI], cat_dat_df[varJ])\n",
    "                row = pd.Series(data={'varI':varI, 'varJ':varJ, 'corr':corr})\n",
    "                cat_corr_df = cat_corr_df.append(row, ignore_index=True)\n",
    "    return(cat_corr_df)\n",
    "cat_corr_df = cat_corr_fun(dat_df)\n",
    "cat_corr = pd.pivot_table(cat_corr_df, index=['varI'], columns=['varJ'], values=['corr'], fill_value=1)\n",
    "cat_corr.columns = cat_corr.columns.droplevel(0)\n",
    "print(cat_corr)\n",
    "f, ax = plt.subplots(figsize=(10, 8))\n",
    "sns.heatmap(cat_corr, mask=np.zeros_like(cat_corr, dtype=np.bool), cmap=sns.diverging_palette(220, 10, as_cmap=True),\n",
    "            square=True, ax=ax)"
   ]
  },
  {
   "cell_type": "code",
   "execution_count": null,
   "id": "computational-discharge",
   "metadata": {},
   "outputs": [],
   "source": [
    "out"
   ]
  }
 ],
 "metadata": {
  "kernelspec": {
   "display_name": "Python 3",
   "language": "python",
   "name": "python3"
  },
  "language_info": {
   "codemirror_mode": {
    "name": "ipython",
    "version": 3
   },
   "file_extension": ".py",
   "mimetype": "text/x-python",
   "name": "python",
   "nbconvert_exporter": "python",
   "pygments_lexer": "ipython3",
   "version": "3.7.9"
  }
 },
 "nbformat": 4,
 "nbformat_minor": 5
}
