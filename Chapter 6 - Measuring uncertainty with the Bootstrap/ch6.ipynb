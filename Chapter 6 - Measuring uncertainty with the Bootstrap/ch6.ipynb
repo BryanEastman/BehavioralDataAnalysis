{
 "cells": [
  {
   "cell_type": "markdown",
   "id": "decent-playback",
   "metadata": {},
   "source": [
    "# Chapter 6: Measuring Uncertainty With the Bootstrap"
   ]
  },
  {
   "cell_type": "code",
   "execution_count": null,
   "id": "alleged-syndrome",
   "metadata": {},
   "outputs": [],
   "source": [
    "##### Data and libraries\n",
    "\n",
    "import pandas as pd\n",
    "import numpy as np\n",
    "import seaborn as sns\n",
    "import matplotlib.pyplot as plt\n",
    "import statsmodels.api as sm\n",
    "from statsmodels.formula.api import ols\n",
    "import statsmodels.stats.outliers_influence as st_inf # For Cook's distance\n",
    "\n",
    "### Generating the data\n",
    "\n",
    "times = [2,2,3,5,6,9,10,47,61,413]\n",
    "experience = [11,17,18,1,10,4,6,3,8,0]\n",
    "\n",
    "data_df = pd.DataFrame(\n",
    "    {'times': times, \n",
    "    'experience': experience})"
   ]
  },
  {
   "cell_type": "markdown",
   "id": "quick-junior",
   "metadata": {},
   "source": [
    "## Intro to the Bootstrap: Polling Oneself Up"
   ]
  },
  {
   "cell_type": "code",
   "execution_count": null,
   "id": "tight-screw",
   "metadata": {},
   "outputs": [],
   "source": [
    "# Building linear model\n",
    "lin_mod = ols(\"times~1\", data=data_df).fit()\n",
    "print(lin_mod.summary())\n",
    "\n",
    "est = lin_mod.params['Intercept']\n",
    "se = lin_mod.bse['Intercept']\n",
    "\n",
    "#Building normal confidence interval\n",
    "LL = est-1.96*se #Lower limit\n",
    "UL = est+1.96*se #Upper limit\n",
    "print(\"LL = \", LL)\n",
    "print(\"UL = \",UL)"
   ]
  },
  {
   "cell_type": "code",
   "execution_count": null,
   "id": "contained-insert",
   "metadata": {},
   "outputs": [],
   "source": [
    "#Building bootstrap CI\n",
    "mean_lst = []\n",
    "B = 2000\n",
    "N = len(data_df)\n",
    "for i in range(B):   \n",
    "    boot_df = data_df.sample(N, replace = True)\n",
    "    M = np.mean(boot_df.times)\n",
    "    mean_lst.append(M)\n",
    "\n",
    "LL_b = np.quantile(mean_lst, 0.025)  \n",
    "UL_b = np.quantile(mean_lst, 0.975)\n",
    "print(\"LL_b = \", LL_b)\n",
    "print(\"UL_b = \",UL_b)"
   ]
  },
  {
   "cell_type": "code",
   "execution_count": null,
   "id": "balanced-harbor",
   "metadata": {},
   "outputs": [],
   "source": [
    "#### Bootstrap for time promise\n",
    "promise_lst = []\n",
    "B = 2000\n",
    "N = len(data_df)\n",
    "for i in range(B):\n",
    "    boot_df = data_df.sample(N, replace = True)\n",
    "    above180 =  len(boot_df[boot_df.times >= 180]) / N\n",
    "    promise_lst.append(above180)\n",
    "LL_b = np.quantile(promise_lst, 0.025)  \n",
    "UL_b = np.quantile(promise_lst, 0.975)  \n",
    "print(\"LL_b = \", LL_b)\n",
    "print(\"UL_b = \",UL_b)"
   ]
  },
  {
   "cell_type": "markdown",
   "id": "straight-infrastructure",
   "metadata": {},
   "source": [
    "## The Bootstrap for Regression Analysis"
   ]
  },
  {
   "cell_type": "code",
   "execution_count": null,
   "id": "deluxe-credit",
   "metadata": {},
   "outputs": [],
   "source": [
    "print(ols(\"times~experience\", data=data_df).fit().summary())"
   ]
  },
  {
   "cell_type": "code",
   "execution_count": null,
   "id": "mighty-program",
   "metadata": {},
   "outputs": [],
   "source": [
    "reg_lst = []\n",
    "B = 4000\n",
    "N = len(data_df)\n",
    "for i in range(B):\n",
    "    boot_df = data_df.sample(N, replace = True)\n",
    "    lin_mod = ols(\"times~experience\", data=boot_df).fit()\n",
    "    coeff = lin_mod.params['experience']\n",
    "    reg_lst.append(coeff)\n",
    "LL_b = np.quantile(reg_lst, 0.025)  \n",
    "UL_b = np.quantile(reg_lst, 0.975) \n",
    "\n",
    "sns.displot(reg_lst) "
   ]
  },
  {
   "cell_type": "code",
   "execution_count": null,
   "id": "equal-northern",
   "metadata": {},
   "outputs": [],
   "source": [
    "pval = 2 * sum(1 for x in reg_lst if x > 0) / B\n",
    "print(pval)"
   ]
  },
  {
   "cell_type": "markdown",
   "id": "technological-carbon",
   "metadata": {},
   "source": [
    "## When to use the Bootstrap"
   ]
  },
  {
   "cell_type": "code",
   "execution_count": null,
   "id": "invisible-scheduling",
   "metadata": {},
   "outputs": [],
   "source": [
    "lin_mod = ols(\"times~experience\", data=data_df).fit()\n",
    "print(lin_mod.summary())"
   ]
  },
  {
   "cell_type": "code",
   "execution_count": null,
   "id": "increased-index",
   "metadata": {},
   "outputs": [],
   "source": [
    "#Extract Cook's distance for influential points\n",
    "CD = st_inf.OLSInfluence(lin_mod).summary_frame()['cooks_d']\n",
    "CD[CD > 1]"
   ]
  },
  {
   "cell_type": "code",
   "execution_count": null,
   "id": "measured-gnome",
   "metadata": {},
   "outputs": [],
   "source": [
    "#Density plot of residuals\n",
    "res_df = lin_mod.resid\n",
    "sns.kdeplot(res_df)"
   ]
  },
  {
   "cell_type": "code",
   "execution_count": null,
   "id": "controlled-invalid",
   "metadata": {},
   "outputs": [],
   "source": [
    "#QQ plot of residuals\n",
    "fig = sm.qqplot(res_df, line='s')\n",
    "plt.show()"
   ]
  },
  {
   "cell_type": "markdown",
   "id": "quantitative-compound",
   "metadata": {},
   "source": [
    "## Optimizing the Bootstrap in R and Python"
   ]
  },
  {
   "cell_type": "code",
   "execution_count": null,
   "id": "british-accuracy",
   "metadata": {},
   "outputs": [],
   "source": [
    "#Creating unique numpy array for sampling\n",
    "data_ar = data_df.to_numpy()\n",
    "rng = np.random.default_rng()\n",
    "\n",
    "np_lst = []\n",
    "for i in range(B): \n",
    "    \n",
    "    #Extracting the relevant columns from array\n",
    "    boot_ar = rng.choice(data_ar, size=N, replace=True)\n",
    "    X = boot_ar[:,1]\n",
    "    X = np.c_[X, np.ones(N)]\n",
    "    Y = boot_ar[:,0]\n",
    "    \n",
    "    ### LSTQ implementation\n",
    "    np_lst.append(np.linalg.lstsq(X, Y, rcond=-1)[0][0])\n",
    "\n",
    "#Plotting histogram\n",
    "sns.displot(np_lst)\n",
    "\n",
    "LL_b_np = np.quantile(np_lst, 0.025)  \n",
    "UL_b_np = np.quantile(np_lst, 0.975) "
   ]
  }
 ],
 "metadata": {
  "kernelspec": {
   "display_name": "Python 3",
   "language": "python",
   "name": "python3"
  },
  "language_info": {
   "codemirror_mode": {
    "name": "ipython",
    "version": 3
   },
   "file_extension": ".py",
   "mimetype": "text/x-python",
   "name": "python",
   "nbconvert_exporter": "python",
   "pygments_lexer": "ipython3",
   "version": "3.7.9"
  }
 },
 "nbformat": 4,
 "nbformat_minor": 5
}
