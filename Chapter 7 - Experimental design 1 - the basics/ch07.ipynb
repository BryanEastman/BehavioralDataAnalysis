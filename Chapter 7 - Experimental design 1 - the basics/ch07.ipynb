{
 "cells": [
  {
   "cell_type": "markdown",
   "id": "decent-playback",
   "metadata": {},
   "source": [
    "# Chapter 7: Experimental design 1 - the basics"
   ]
  },
  {
   "cell_type": "markdown",
   "id": "published-skirt",
   "metadata": {},
   "source": [
    "## Libraries and data"
   ]
  },
  {
   "cell_type": "markdown",
   "id": "vocational-running",
   "metadata": {},
   "source": [
    "### Libraries"
   ]
  },
  {
   "cell_type": "code",
   "execution_count": null,
   "id": "twelve-liberty",
   "metadata": {},
   "outputs": [],
   "source": [
    "import pandas as pd\n",
    "import numpy as np\n",
    "from math import asin, sqrt\n",
    "import statsmodels.formula.api as smf\n",
    "import statsmodels.stats.power as ssp"
   ]
  },
  {
   "cell_type": "markdown",
   "id": "relative-michigan",
   "metadata": {},
   "source": [
    "### Data"
   ]
  },
  {
   "cell_type": "code",
   "execution_count": null,
   "id": "daily-teacher",
   "metadata": {},
   "outputs": [],
   "source": [
    "hist_data_df = pd.read_csv('chap7-historical_data.csv')\n",
    "exp_data_df = pd.read_csv('chap7-experimental_data.csv')"
   ]
  },
  {
   "cell_type": "markdown",
   "id": "fundamental-print",
   "metadata": {},
   "source": [
    "## Determining random assignment and sample size/power"
   ]
  },
  {
   "cell_type": "code",
   "execution_count": null,
   "id": "skilled-accreditation",
   "metadata": {},
   "outputs": [],
   "source": [
    "### Basic random assignment\n",
    "K = 2\n",
    "assgnt = np.random.uniform(0,1,1)\n",
    "group = \"control\" if assgnt <= 1/K else \"treatment\""
   ]
  },
  {
   "cell_type": "code",
   "execution_count": null,
   "id": "played-preparation",
   "metadata": {},
   "outputs": [],
   "source": [
    "effect_size = 2*asin(sqrt(0.194))-2*asin(sqrt(0.184))\n",
    "ssp.tt_ind_solve_power(effect_size = effect_size, \n",
    "                       alpha = 0.05, \n",
    "                       nobs1 = None, \n",
    "                       alternative = 'larger', \n",
    "                       power=0.8)"
   ]
  },
  {
   "cell_type": "code",
   "execution_count": null,
   "id": "posted-deputy",
   "metadata": {},
   "outputs": [],
   "source": [
    "### Function definitions\n",
    "\n",
    "## Metric function\n",
    "def log_reg_fun(dat_df):\n",
    "    \n",
    "    model = smf.logit('booked ~ oneclick + age + gender', data = dat_df)\n",
    "    res = model.fit(disp=0)\n",
    "    coeff = res.params['oneclick']\n",
    "    return coeff\n",
    "\n",
    "## Bootstrap CI function\n",
    "def boot_CI_fun(dat_df, metric_fun, B = 100, conf_level = 0.9):\n",
    "  #Setting sample size\n",
    "  N = len(dat_df)\n",
    "  conf_level = conf_level\n",
    "  coeffs = []\n",
    "  \n",
    "  for i in range(B):\n",
    "      sim_data_df = dat_df.sample(n=N, replace = True)\n",
    "      coeff = metric_fun(sim_data_df)\n",
    "      coeffs.append(coeff)\n",
    "  \n",
    "  coeffs.sort()\n",
    "  start_idx = round(B * (1 - conf_level) / 2)\n",
    "  end_idx = - round(B * (1 - conf_level) / 2)\n",
    "  \n",
    "  confint = [coeffs[start_idx], coeffs[end_idx]]  \n",
    "  \n",
    "  return(confint)\n",
    "\n",
    "## decision function\n",
    "def decision_fun(dat_df, metric_fun, B = 100, conf_level = 0.9):\n",
    "    boot_CI = boot_CI_fun(dat_df, metric_fun, B = B, conf_level = conf_level)\n",
    "    decision = 1 if boot_CI[0] > 0  else 0\n",
    "    return decision \n",
    "\n",
    "## Function for single simulation\n",
    "def single_sim_fun(Nexp, dat_df = hist_data_df, metric_fun = log_reg_fun, \n",
    "                   eff_size = 0.01, B = 100, conf_level = 0.9):\n",
    "    \n",
    "    #Adding predicted probability of booking\n",
    "    hist_model = smf.logit('booked ~ age + gender + period', data = dat_df)\n",
    "    res = hist_model.fit(disp=0)\n",
    "    sim_data_df = dat_df.copy()\n",
    "    sim_data_df['pred_prob_bkg'] = res.predict()\n",
    "    #Filtering down to desired sample size\n",
    "    sim_data_df = sim_data_df.sample(Nexp)\n",
    "    #Random assignment of experimental groups\n",
    "    sim_data_df['oneclick'] = np.where(np.random.uniform(size=Nexp) <= 0.5, 0, 1)\n",
    "    # Adding effect to treatment group\n",
    "    sim_data_df['pred_prob_bkg'] = np.where(sim_data_df.oneclick == 1, \n",
    "                                            sim_data_df.pred_prob_bkg + eff_size, \n",
    "                                            sim_data_df.pred_prob_bkg)\n",
    "    sim_data_df['booked'] = np.where(sim_data_df.pred_prob_bkg >= \\\n",
    "                                     np.random.uniform(size=Nexp), 1, 0)\n",
    "    \n",
    "    #Calculate the decision (we want it to be 1)\n",
    "    decision = decision_fun(sim_data_df, metric_fun = metric_fun, B = B, \n",
    "                            conf_level = conf_level)\n",
    "     \n",
    "    return decision  \n",
    " \n",
    "## power simulation function\n",
    "def power_sim_fun(dat_df, metric_fun, Nexp, eff_size, Nsim, B = 100, \n",
    "                  conf_level = 0.9):\n",
    "    power_lst = []\n",
    "    for i in range(Nsim):\n",
    "        print(\"starting simulation number\", i, \"\\n\")\n",
    "        power_lst.append(single_sim_fun(Nexp = Nexp, dat_df = dat_df, \n",
    "                                        metric_fun = metric_fun, \n",
    "                                        eff_size = eff_size, B = B, \n",
    "                                        conf_level = conf_level))\n",
    "    power = np.mean(power_lst)\n",
    "    return(power)"
   ]
  },
  {
   "cell_type": "code",
   "execution_count": null,
   "id": "supported-bhutan",
   "metadata": {},
   "outputs": [],
   "source": [
    "## Single simulation\n",
    "single_sim_fun(Nexp = 1000)"
   ]
  },
  {
   "cell_type": "code",
   "execution_count": null,
   "id": "boxed-connecticut",
   "metadata": {},
   "outputs": [],
   "source": [
    "## Power simulation\n",
    "power_sim_fun(dat_df=hist_data_df, metric_fun = log_reg_fun, Nexp = int(4e4), \n",
    "              eff_size=0.01, Nsim=20)"
   ]
  },
  {
   "cell_type": "code",
   "execution_count": null,
   "id": "downtown-nature",
   "metadata": {},
   "outputs": [],
   "source": [
    "#Alternative parallelized function for higher speed\n",
    "from joblib import Parallel, delayed\n",
    "import psutil\n",
    "\n",
    "def opt_power_sim_fun(dat_df, metric_fun, Nexp, eff_size, Nsim, B = 100, conf_level = 0.9):\n",
    "    #Parallelized version with joblib\n",
    "    n_cpu = psutil.cpu_count() #Counting number of cores on machine\n",
    "    counter = [Nexp] * Nsim\n",
    "    res_parallel = Parallel(n_jobs = n_cpu)(delayed(single_sim_fun)(Nexp) for Nexp in counter)\n",
    "    pwr = np.mean(res_parallel)\n",
    "    return(pwr)\n",
    "opt_power_sim_fun(dat_df=hist_data_df, metric_fun = log_reg_fun, Nexp = int(1e3), eff_size=0.01, Nsim=10)"
   ]
  },
  {
   "cell_type": "markdown",
   "id": "changing-carter",
   "metadata": {},
   "source": [
    "## Analyzing and interpreting experimental results"
   ]
  },
  {
   "cell_type": "code",
   "execution_count": null,
   "id": "naughty-wright",
   "metadata": {},
   "outputs": [],
   "source": [
    "### Logistic regression\n",
    "log_mod_exp = smf.logit('booked ~ age + gender + oneclick', data = exp_data_df)\n",
    "res = log_mod_exp.fit()\n",
    "res.summary()"
   ]
  },
  {
   "cell_type": "code",
   "execution_count": null,
   "id": "entertaining-dutch",
   "metadata": {},
   "outputs": [],
   "source": [
    "### Calculating average difference in probabilities\n",
    "def diff_prob_fun(dat_df, reg_model = log_mod_exp):\n",
    "    \n",
    "    #Creating new copies of data\n",
    "    no_button_df = exp_data_df.loc[:, 'age':'gender']\n",
    "    no_button_df.loc[:, 'oneclick'] = 0\n",
    "    button_df = exp_data_df.loc[:,'age':'gender']\n",
    "    button_df.loc[:, 'oneclick'] = 1\n",
    "    \n",
    "    #Adding the predictions of the model \n",
    "    no_button_df.loc[:, 'pred_bkg_rate'] = res.predict(no_button_df)\n",
    "    button_df.loc[:, 'pred_bkg_rate'] = res.predict(button_df)\n",
    "    \n",
    "    diff = button_df.loc[:,'pred_bkg_rate'] - no_button_df.loc[:,'pred_bkg_rate']\n",
    "    return diff.mean()\n",
    "    \n",
    "diff_prob_fun(exp_data_df, reg_model = log_mod_exp)"
   ]
  }
 ],
 "metadata": {
  "kernelspec": {
   "display_name": "Python 3",
   "language": "python",
   "name": "python3"
  },
  "language_info": {
   "codemirror_mode": {
    "name": "ipython",
    "version": 3
   },
   "file_extension": ".py",
   "mimetype": "text/x-python",
   "name": "python",
   "nbconvert_exporter": "python",
   "pygments_lexer": "ipython3",
   "version": "3.7.9"
  }
 },
 "nbformat": 4,
 "nbformat_minor": 5
}
