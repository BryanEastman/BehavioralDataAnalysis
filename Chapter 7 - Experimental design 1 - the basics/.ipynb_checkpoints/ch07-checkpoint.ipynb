{
 "cells": [
  {
   "cell_type": "markdown",
   "id": "attempted-reasoning",
   "metadata": {},
   "source": [
    "# Chapter 7: Experimental design 1 - the basics"
   ]
  },
  {
   "cell_type": "markdown",
   "id": "personalized-mirror",
   "metadata": {},
   "source": [
    "## Libraries and data"
   ]
  },
  {
   "cell_type": "markdown",
   "id": "native-contractor",
   "metadata": {},
   "source": [
    "### Libraries"
   ]
  },
  {
   "cell_type": "code",
   "execution_count": null,
   "id": "framed-raise",
   "metadata": {},
   "outputs": [],
   "source": [
    "import pandas as pd\n",
    "import numpy as np\n",
    "from math import asin, sqrt\n",
    "import statsmodels.formula.api as smf\n",
    "import statsmodels.stats.power as ssp"
   ]
  },
  {
   "cell_type": "markdown",
   "id": "ceramic-monte",
   "metadata": {},
   "source": [
    "### Data"
   ]
  },
  {
   "cell_type": "code",
   "execution_count": null,
   "id": "loaded-millennium",
   "metadata": {},
   "outputs": [],
   "source": [
    "hist_data_df = pd.read_csv('chap7-historical_data.csv')\n",
    "exp_data_df = pd.read_csv('chap7-experimental_data.csv')"
   ]
  },
  {
   "cell_type": "markdown",
   "id": "humanitarian-advancement",
   "metadata": {},
   "source": [
    "## Determining random assignment and sample size/power"
   ]
  },
  {
   "cell_type": "code",
   "execution_count": null,
   "id": "general-difficulty",
   "metadata": {},
   "outputs": [],
   "source": [
    "##### 3. Determining random assignment and sample size/power #####\n",
    "\n",
    "#### 3.1 Random assignment ####\n",
    "\n",
    "# Basic random assignment\n",
    "K = 2\n",
    "assgnt = np.random.uniform(0,1,1)\n",
    "group = \"control\" if assgnt <= 1/K else \"treatment\""
   ]
  },
  {
   "cell_type": "code",
   "execution_count": null,
   "id": "through-pavilion",
   "metadata": {},
   "outputs": [],
   "source": []
  },
  {
   "cell_type": "code",
   "execution_count": null,
   "id": "tutorial-bowling",
   "metadata": {},
   "outputs": [],
   "source": [
    "\n",
    "\n",
    "#### 3.2 Sample size and experiment power ####\n",
    "\n",
    "effect_size = 2*asin(sqrt(0.194))-2*asin(sqrt(0.184))\n",
    "ssp.tt_ind_solve_power(effect_size = effect_size, \n",
    "                       alpha = 0.05, \n",
    "                       nobs1 = None, \n",
    "                       alternative = 'larger', \n",
    "                       power=0.8)\n",
    "\n",
    "### Metric function\n",
    "def log_reg_fun(dat_df):\n",
    "    \n",
    "    model = smf.logit('booked ~ oneclick + age + gender', data = dat_df)\n",
    "    res = model.fit(disp=0)\n",
    "    coeff = res.params['oneclick']\n",
    "    return coeff\n",
    "\n",
    "### Bootstrap CI function\n",
    "def boot_CI_fun(dat_df, metric_fun, B = 100, conf_level = 0.9):\n",
    "  #Setting sample size\n",
    "  N = len(dat_df)\n",
    "  conf_level = conf_level\n",
    "  coeffs = []\n",
    "  \n",
    "  for i in range(B):\n",
    "      sim_data_df = dat_df.sample(n=N, replace = True)\n",
    "      coeff = metric_fun(sim_data_df)\n",
    "      coeffs.append(coeff)\n",
    "  \n",
    "  coeffs.sort()\n",
    "  start_idx = round(B * (1 - conf_level) / 2)\n",
    "  end_idx = - round(B * (1 - conf_level) / 2)\n",
    "  \n",
    "  confint = [coeffs[start_idx], coeffs[end_idx]]  \n",
    "  \n",
    "  return(confint)\n",
    "\n",
    "### decision function\n",
    "def decision_fun(dat_df, metric_fun, B = 100, conf_level = 0.9):\n",
    "    boot_CI = boot_CI_fun(dat_df, metric_fun, B = B, conf_level = conf_level)\n",
    "    decision = 1 if boot_CI[0] > 0  else 0\n",
    "    return decision\n",
    "decision_fun(exp_data_df, log_reg_fun)  \n",
    "\n",
    "### Function for single simulation\n",
    "def single_sim_fun(Nexp, dat_df = hist_data_df, metric_fun = log_reg_fun, \n",
    "                   eff_size = 0.01, B = 100, conf_level = 0.9):\n",
    "    \n",
    "    #Adding predicted probability of booking\n",
    "    hist_model = smf.logit('booked ~ age + gender + period', data = dat_df)\n",
    "    res = hist_model.fit(disp=0)\n",
    "    sim_data_df = dat_df.copy()\n",
    "    sim_data_df['pred_prob_bkg'] = res.predict()\n",
    "    #Filtering down to desired sample size\n",
    "    sim_data_df = sim_data_df.sample(Nexp)\n",
    "    #Random assignment of experimental groups\n",
    "    sim_data_df['oneclick'] = np.where(np.random.uniform(size=Nexp) <= 0.5, 0, 1)\n",
    "    # Adding effect to treatment group\n",
    "    sim_data_df['pred_prob_bkg'] = np.where(sim_data_df.oneclick == 1, \n",
    "                                            sim_data_df.pred_prob_bkg + eff_size, \n",
    "                                            sim_data_df.pred_prob_bkg)\n",
    "    sim_data_df['booked'] = np.where(sim_data_df.pred_prob_bkg >= \\\n",
    "                                     np.random.uniform(size=Nexp), 1, 0)\n",
    "    \n",
    "    #Calculate the decision (we want it to be 1)\n",
    "    decision = decision_fun(sim_data_df, metric_fun = metric_fun, B = B, \n",
    "                            conf_level = conf_level)\n",
    "     \n",
    "    return decision\n",
    "single_sim_fun(Nexp = 1000)  \n",
    "   \n",
    " \n",
    "### power simulation function\n",
    "def power_sim_fun(dat_df, metric_fun, Nexp, eff_size, Nsim, B = 100, \n",
    "                  conf_level = 0.9):\n",
    "    power_lst = []\n",
    "    for i in range(Nsim):\n",
    "        print(\"starting simulation number\", i, \"\\n\")\n",
    "        power_lst.append(single_sim_fun(Nexp = Nexp, dat_df = dat_df, \n",
    "                                        metric_fun = metric_fun, \n",
    "                                        eff_size = eff_size, B = B, \n",
    "                                        conf_level = conf_level))\n",
    "    power = np.mean(power_lst)\n",
    "    return(power)\n",
    "\n",
    "power_sim_fun(dat_df=hist_data_df, metric_fun = log_reg_fun, Nexp = int(4e4), \n",
    "              eff_size=0.01, Nsim=20)"
   ]
  },
  {
   "cell_type": "code",
   "execution_count": null,
   "id": "altered-courtesy",
   "metadata": {},
   "outputs": [],
   "source": [
    "#Alternative parallelized function for higher speed\n",
    "from joblib import Parallel, delayed\n",
    "import psutil\n",
    "\n",
    "def opt_power_sim_fun(dat_df, metric_fun, Nexp, eff_size, Nsim, B = 100, conf_level = 0.9):\n",
    "    #Parallelized version with joblib\n",
    "    n_cpu = psutil.cpu_count() #Counting number of cores on machine\n",
    "    counter = [Nexp] * Nsim\n",
    "    res_parallel = Parallel(n_jobs = n_cpu)(delayed(single_sim_fun)(Nexp) for Nexp in counter)\n",
    "    pwr = np.mean(res_parallel)\n",
    "    return(pwr)\n",
    "opt_power_sim_fun(dat_df=hist_data_df, metric_fun = log_reg_fun, Nexp = int(1e3), eff_size=0.01, Nsim=10)"
   ]
  },
  {
   "cell_type": "markdown",
   "id": "broadband-aluminum",
   "metadata": {},
   "source": [
    "## Analyzing and interpreting experimental results"
   ]
  },
  {
   "cell_type": "code",
   "execution_count": 4,
   "id": "psychological-egyptian",
   "metadata": {},
   "outputs": [
    {
     "name": "stdout",
     "output_type": "stream",
     "text": [
      "Optimization terminated successfully.\n",
      "         Current function value: 0.161220\n",
      "         Iterations 9\n"
     ]
    },
    {
     "data": {
      "text/html": [
       "<table class=\"simpletable\">\n",
       "<caption>Logit Regression Results</caption>\n",
       "<tr>\n",
       "  <th>Dep. Variable:</th>        <td>booked</td>      <th>  No. Observations:  </th>  <td> 40160</td> \n",
       "</tr>\n",
       "<tr>\n",
       "  <th>Model:</th>                 <td>Logit</td>      <th>  Df Residuals:      </th>  <td> 40156</td> \n",
       "</tr>\n",
       "<tr>\n",
       "  <th>Method:</th>                 <td>MLE</td>       <th>  Df Model:          </th>  <td>     3</td> \n",
       "</tr>\n",
       "<tr>\n",
       "  <th>Date:</th>            <td>Thu, 11 Feb 2021</td> <th>  Pseudo R-squ.:     </th>  <td>0.3311</td> \n",
       "</tr>\n",
       "<tr>\n",
       "  <th>Time:</th>                <td>08:53:38</td>     <th>  Log-Likelihood:    </th> <td> -6474.6</td>\n",
       "</tr>\n",
       "<tr>\n",
       "  <th>converged:</th>             <td>True</td>       <th>  LL-Null:           </th> <td> -9679.1</td>\n",
       "</tr>\n",
       "<tr>\n",
       "  <th>Covariance Type:</th>     <td>nonrobust</td>    <th>  LLR p-value:       </th>  <td> 0.000</td> \n",
       "</tr>\n",
       "</table>\n",
       "<table class=\"simpletable\">\n",
       "<tr>\n",
       "         <td></td>           <th>coef</th>     <th>std err</th>      <th>z</th>      <th>P>|z|</th>  <th>[0.025</th>    <th>0.975]</th>  \n",
       "</tr>\n",
       "<tr>\n",
       "  <th>Intercept</th>      <td>   11.6928</td> <td>    0.226</td> <td>   51.819</td> <td> 0.000</td> <td>   11.251</td> <td>   12.135</td>\n",
       "</tr>\n",
       "<tr>\n",
       "  <th>gender[T.male]</th> <td>    0.2542</td> <td>    0.049</td> <td>    5.182</td> <td> 0.000</td> <td>    0.158</td> <td>    0.350</td>\n",
       "</tr>\n",
       "<tr>\n",
       "  <th>age</th>            <td>   -0.3941</td> <td>    0.006</td> <td>  -61.282</td> <td> 0.000</td> <td>   -0.407</td> <td>   -0.381</td>\n",
       "</tr>\n",
       "<tr>\n",
       "  <th>oneclick</th>       <td>    0.1578</td> <td>    0.047</td> <td>    3.357</td> <td> 0.001</td> <td>    0.066</td> <td>    0.250</td>\n",
       "</tr>\n",
       "</table>"
      ],
      "text/plain": [
       "<class 'statsmodels.iolib.summary.Summary'>\n",
       "\"\"\"\n",
       "                           Logit Regression Results                           \n",
       "==============================================================================\n",
       "Dep. Variable:                 booked   No. Observations:                40160\n",
       "Model:                          Logit   Df Residuals:                    40156\n",
       "Method:                           MLE   Df Model:                            3\n",
       "Date:                Thu, 11 Feb 2021   Pseudo R-squ.:                  0.3311\n",
       "Time:                        08:53:38   Log-Likelihood:                -6474.6\n",
       "converged:                       True   LL-Null:                       -9679.1\n",
       "Covariance Type:            nonrobust   LLR p-value:                     0.000\n",
       "==================================================================================\n",
       "                     coef    std err          z      P>|z|      [0.025      0.975]\n",
       "----------------------------------------------------------------------------------\n",
       "Intercept         11.6928      0.226     51.819      0.000      11.251      12.135\n",
       "gender[T.male]     0.2542      0.049      5.182      0.000       0.158       0.350\n",
       "age               -0.3941      0.006    -61.282      0.000      -0.407      -0.381\n",
       "oneclick           0.1578      0.047      3.357      0.001       0.066       0.250\n",
       "==================================================================================\n",
       "\"\"\""
      ]
     },
     "execution_count": 4,
     "metadata": {},
     "output_type": "execute_result"
    }
   ],
   "source": [
    "### Logistic regression\n",
    "log_mod_exp = smf.logit('booked ~ age + gender + oneclick', data = exp_data_df)\n",
    "res = log_mod_exp.fit()\n",
    "res.summary()"
   ]
  },
  {
   "cell_type": "code",
   "execution_count": 5,
   "id": "referenced-footage",
   "metadata": {},
   "outputs": [
    {
     "data": {
      "text/plain": [
       "0.007129714313551981"
      ]
     },
     "execution_count": 5,
     "metadata": {},
     "output_type": "execute_result"
    }
   ],
   "source": [
    "### Calculating average difference in probabilities\n",
    "def diff_prob_fun(dat_df, reg_model = log_mod_exp):\n",
    "    \n",
    "    #Creating new copies of data\n",
    "    no_button_df = exp_data_df.loc[:, 'age':'gender']\n",
    "    no_button_df.loc[:, 'oneclick'] = 0\n",
    "    button_df = exp_data_df.loc[:,'age':'gender']\n",
    "    button_df.loc[:, 'oneclick'] = 1\n",
    "    \n",
    "    #Adding the predictions of the model \n",
    "    no_button_df.loc[:, 'pred_bkg_rate'] = res.predict(no_button_df)\n",
    "    button_df.loc[:, 'pred_bkg_rate'] = res.predict(button_df)\n",
    "    \n",
    "    diff = button_df.loc[:,'pred_bkg_rate'] - no_button_df.loc[:,'pred_bkg_rate']\n",
    "    return diff.mean()\n",
    "    \n",
    "diff_prob_fun(exp_data_df, reg_model = log_mod_exp)"
   ]
  },
  {
   "cell_type": "code",
   "execution_count": null,
   "id": "opposed-tutorial",
   "metadata": {},
   "outputs": [],
   "source": []
  }
 ],
 "metadata": {
  "kernelspec": {
   "display_name": "Python 3",
   "language": "python",
   "name": "python3"
  },
  "language_info": {
   "codemirror_mode": {
    "name": "ipython",
    "version": 3
   },
   "file_extension": ".py",
   "mimetype": "text/x-python",
   "name": "python",
   "nbconvert_exporter": "python",
   "pygments_lexer": "ipython3",
   "version": "3.7.9"
  }
 },
 "nbformat": 4,
 "nbformat_minor": 5
}
