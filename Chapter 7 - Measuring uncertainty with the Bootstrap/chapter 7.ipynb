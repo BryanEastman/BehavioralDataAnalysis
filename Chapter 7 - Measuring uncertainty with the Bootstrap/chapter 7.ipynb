{
 "cells": [
  {
   "cell_type": "code",
   "execution_count": 1,
   "metadata": {},
   "outputs": [],
   "source": [
    "##### Data and libraries\n",
    "\n",
    "# Common libraries\n",
    "import pandas as pd\n",
    "import numpy as np\n",
    "import statsmodels.formula.api as smf\n",
    "from statsmodels.formula.api import ols\n",
    "import seaborn as sns\n",
    "\n",
    "# Chapter-specific libraries\n",
    "import statsmodels.stats.outliers_influence as st_inf # For Cook's distance\n",
    "import matplotlib.pyplot as plt\n",
    "import statsmodels.api as sm # For QQ plot\n",
    "\n",
    "### Generating the data\n",
    "\n",
    "times = [2,2,3,5,6,9,10,47,61,413]\n",
    "experience = [11,17,18,1,10,4,6,3,8,0]\n",
    "\n",
    "data_df = pd.DataFrame(\n",
    "    {'times': times, \n",
    "    'experience': experience})"
   ]
  },
  {
   "cell_type": "code",
   "execution_count": 3,
   "metadata": {},
   "outputs": [
    {
     "name": "stdout",
     "output_type": "stream",
     "text": [
      "Lower Limit: -23.040199740431348\n",
      "Upper Limit: 134.64019974043134\n"
     ]
    }
   ],
   "source": [
    "#  calculating upper and lower confidence intervals for sample mean\n",
    "lin_mod = ols(\"times~1\", data=data_df).fit()\n",
    "est = lin_mod.params['Intercept']\n",
    "se = lin_mod.bse['Intercept']\n",
    "LL = est-1.96*se\n",
    "UL = est+1.96*se\n",
    "print(f'Lower Limit: {LL}\\nUpper Limit: {UL}')"
   ]
  },
  {
   "cell_type": "code",
   "execution_count": 6,
   "metadata": {},
   "outputs": [
    {
     "data": {
      "text/html": [
       "<div>\n",
       "<style scoped>\n",
       "    .dataframe tbody tr th:only-of-type {\n",
       "        vertical-align: middle;\n",
       "    }\n",
       "\n",
       "    .dataframe tbody tr th {\n",
       "        vertical-align: top;\n",
       "    }\n",
       "\n",
       "    .dataframe thead th {\n",
       "        text-align: right;\n",
       "    }\n",
       "</style>\n",
       "<table border=\"1\" class=\"dataframe\">\n",
       "  <thead>\n",
       "    <tr style=\"text-align: right;\">\n",
       "      <th></th>\n",
       "      <th>times</th>\n",
       "      <th>experience</th>\n",
       "    </tr>\n",
       "  </thead>\n",
       "  <tbody>\n",
       "    <tr>\n",
       "      <th>9</th>\n",
       "      <td>413</td>\n",
       "      <td>0</td>\n",
       "    </tr>\n",
       "    <tr>\n",
       "      <th>9</th>\n",
       "      <td>413</td>\n",
       "      <td>0</td>\n",
       "    </tr>\n",
       "    <tr>\n",
       "      <th>2</th>\n",
       "      <td>3</td>\n",
       "      <td>18</td>\n",
       "    </tr>\n",
       "    <tr>\n",
       "      <th>3</th>\n",
       "      <td>5</td>\n",
       "      <td>1</td>\n",
       "    </tr>\n",
       "    <tr>\n",
       "      <th>0</th>\n",
       "      <td>2</td>\n",
       "      <td>11</td>\n",
       "    </tr>\n",
       "    <tr>\n",
       "      <th>0</th>\n",
       "      <td>2</td>\n",
       "      <td>11</td>\n",
       "    </tr>\n",
       "    <tr>\n",
       "      <th>1</th>\n",
       "      <td>2</td>\n",
       "      <td>17</td>\n",
       "    </tr>\n",
       "    <tr>\n",
       "      <th>8</th>\n",
       "      <td>61</td>\n",
       "      <td>8</td>\n",
       "    </tr>\n",
       "    <tr>\n",
       "      <th>8</th>\n",
       "      <td>61</td>\n",
       "      <td>8</td>\n",
       "    </tr>\n",
       "    <tr>\n",
       "      <th>8</th>\n",
       "      <td>61</td>\n",
       "      <td>8</td>\n",
       "    </tr>\n",
       "  </tbody>\n",
       "</table>\n",
       "</div>"
      ],
      "text/plain": [
       "   times  experience\n",
       "9    413           0\n",
       "9    413           0\n",
       "2      3          18\n",
       "3      5           1\n",
       "0      2          11\n",
       "0      2          11\n",
       "1      2          17\n",
       "8     61           8\n",
       "8     61           8\n",
       "8     61           8"
      ]
     },
     "execution_count": 6,
     "metadata": {},
     "output_type": "execute_result"
    }
   ],
   "source": [
    "boot_df = data_df.sample(len(data_df), replace=True) # sampling dataset with replacement\n",
    "boot_df"
   ]
  },
  {
   "cell_type": "code",
   "execution_count": 20,
   "metadata": {},
   "outputs": [
    {
     "data": {
      "text/plain": [
       "<seaborn.axisgrid.FacetGrid at 0x7fb338b5e720>"
      ]
     },
     "execution_count": 20,
     "metadata": {},
     "output_type": "execute_result"
    },
    {
     "data": {
      "image/png": "[encoded data removed]",
      "text/plain": [
       "<Figure size 500x500 with 1 Axes>"
      ]
     },
     "metadata": {},
     "output_type": "display_data"
    }
   ],
   "source": [
    "%matplotlib inline\n",
    "res_boot_sim = []\n",
    "B = 2000\n",
    "N = len(data_df)\n",
    "for i in range(B):\n",
    "    boot_df = data_df.sample(N, replace=True)\n",
    "    M = np.mean(boot_df.times)\n",
    "    res_boot_sim.append(M)\n",
    "\n",
    "g = sns.displot(res_boot_sim, kind='hist')\n",
    "g.set_axis_labels('bootstrap mean times')"
   ]
  },
  {
   "cell_type": "code",
   "execution_count": 22,
   "metadata": {},
   "outputs": [
    {
     "name": "stdout",
     "output_type": "stream",
     "text": [
      "Lower Limit Boostrap: 7.387500000000001\n",
      "Upper Limit Bootstrap: 138.92749999999987\n"
     ]
    }
   ],
   "source": [
    "# constructing CI from bootstrap\n",
    "# values will vary across resamples as they are randomly generated\n",
    "LL_b = np.quantile(res_boot_sim, 0.025)\n",
    "UL_b = np.quantile(res_boot_sim, .975)\n",
    "print(f\"Lower Limit Boostrap: {LL_b}\\nUpper Limit Bootstrap: {UL_b}\")"
   ]
  }
 ],
 "metadata": {
  "kernelspec": {
   "display_name": "bda",
   "language": "python",
   "name": "python3"
  },
  "language_info": {
   "codemirror_mode": {
    "name": "ipython",
    "version": 3
   },
   "file_extension": ".py",
   "mimetype": "text/x-python",
   "name": "python",
   "nbconvert_exporter": "python",
   "pygments_lexer": "ipython3",
   "version": "3.12.0"
  }
 },
 "nbformat": 4,
 "nbformat_minor": 2
}
