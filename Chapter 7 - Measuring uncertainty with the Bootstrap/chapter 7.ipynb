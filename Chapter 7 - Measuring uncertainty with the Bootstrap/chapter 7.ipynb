{
 "cells": [
  {
   "cell_type": "code",
   "execution_count": 1,
   "metadata": {},
   "outputs": [],
   "source": [
    "##### Data and libraries\n",
    "\n",
    "# Common libraries\n",
    "import pandas as pd\n",
    "import numpy as np\n",
    "import statsmodels.formula.api as smf\n",
    "from statsmodels.formula.api import ols\n",
    "import seaborn as sns\n",
    "\n",
    "# Chapter-specific libraries\n",
    "import statsmodels.stats.outliers_influence as st_inf # For Cook's distance\n",
    "import matplotlib.pyplot as plt\n",
    "import statsmodels.api as sm # For QQ plot\n",
    "\n",
    "### Generating the data\n",
    "\n",
    "times = [2,2,3,5,6,9,10,47,61,413]\n",
    "experience = [11,17,18,1,10,4,6,3,8,0]\n",
    "\n",
    "data_df = pd.DataFrame(\n",
    "    {'times': times, \n",
    "    'experience': experience})"
   ]
  },
  {
   "cell_type": "code",
   "execution_count": 2,
   "metadata": {},
   "outputs": [
    {
     "name": "stdout",
     "output_type": "stream",
     "text": [
      "Lower Limit: -23.040199740431348\n",
      "Upper Limit: 134.64019974043134\n"
     ]
    }
   ],
   "source": [
    "#  calculating upper and lower confidence intervals for sample mean\n",
    "lin_mod = ols(\"times~1\", data=data_df).fit()\n",
    "est = lin_mod.params['Intercept']\n",
    "se = lin_mod.bse['Intercept']\n",
    "LL = est-1.96*se\n",
    "UL = est+1.96*se\n",
    "print(f'Lower Limit: {LL}\\nUpper Limit: {UL}')"
   ]
  },
  {
   "cell_type": "code",
   "execution_count": 3,
   "metadata": {},
   "outputs": [
    {
     "data": {
      "text/html": [
       "<div>\n",
       "<style scoped>\n",
       "    .dataframe tbody tr th:only-of-type {\n",
       "        vertical-align: middle;\n",
       "    }\n",
       "\n",
       "    .dataframe tbody tr th {\n",
       "        vertical-align: top;\n",
       "    }\n",
       "\n",
       "    .dataframe thead th {\n",
       "        text-align: right;\n",
       "    }\n",
       "</style>\n",
       "<table border=\"1\" class=\"dataframe\">\n",
       "  <thead>\n",
       "    <tr style=\"text-align: right;\">\n",
       "      <th></th>\n",
       "      <th>times</th>\n",
       "      <th>experience</th>\n",
       "    </tr>\n",
       "  </thead>\n",
       "  <tbody>\n",
       "    <tr>\n",
       "      <th>4</th>\n",
       "      <td>6</td>\n",
       "      <td>10</td>\n",
       "    </tr>\n",
       "    <tr>\n",
       "      <th>2</th>\n",
       "      <td>3</td>\n",
       "      <td>18</td>\n",
       "    </tr>\n",
       "    <tr>\n",
       "      <th>7</th>\n",
       "      <td>47</td>\n",
       "      <td>3</td>\n",
       "    </tr>\n",
       "    <tr>\n",
       "      <th>0</th>\n",
       "      <td>2</td>\n",
       "      <td>11</td>\n",
       "    </tr>\n",
       "    <tr>\n",
       "      <th>7</th>\n",
       "      <td>47</td>\n",
       "      <td>3</td>\n",
       "    </tr>\n",
       "    <tr>\n",
       "      <th>7</th>\n",
       "      <td>47</td>\n",
       "      <td>3</td>\n",
       "    </tr>\n",
       "    <tr>\n",
       "      <th>9</th>\n",
       "      <td>413</td>\n",
       "      <td>0</td>\n",
       "    </tr>\n",
       "    <tr>\n",
       "      <th>9</th>\n",
       "      <td>413</td>\n",
       "      <td>0</td>\n",
       "    </tr>\n",
       "    <tr>\n",
       "      <th>7</th>\n",
       "      <td>47</td>\n",
       "      <td>3</td>\n",
       "    </tr>\n",
       "    <tr>\n",
       "      <th>9</th>\n",
       "      <td>413</td>\n",
       "      <td>0</td>\n",
       "    </tr>\n",
       "  </tbody>\n",
       "</table>\n",
       "</div>"
      ],
      "text/plain": [
       "   times  experience\n",
       "4      6          10\n",
       "2      3          18\n",
       "7     47           3\n",
       "0      2          11\n",
       "7     47           3\n",
       "7     47           3\n",
       "9    413           0\n",
       "9    413           0\n",
       "7     47           3\n",
       "9    413           0"
      ]
     },
     "execution_count": 3,
     "metadata": {},
     "output_type": "execute_result"
    }
   ],
   "source": [
    "boot_df = data_df.sample(len(data_df), replace=True) # sampling dataset with replacement\n",
    "boot_df"
   ]
  },
  {
   "cell_type": "code",
   "execution_count": 4,
   "metadata": {},
   "outputs": [
    {
     "data": {
      "text/plain": [
       "<seaborn.axisgrid.FacetGrid at 0x7ff41859bd70>"
      ]
     },
     "execution_count": 4,
     "metadata": {},
     "output_type": "execute_result"
    },
    {
     "data": {
      "image/png": "[encoded data removed]",
      "text/plain": [
       "<Figure size 500x500 with 1 Axes>"
      ]
     },
     "metadata": {},
     "output_type": "display_data"
    }
   ],
   "source": [
    "%matplotlib inline\n",
    "res_boot_sim = []\n",
    "B = 2000\n",
    "N = len(data_df)\n",
    "for i in range(B):\n",
    "    boot_df = data_df.sample(N, replace=True)\n",
    "    M = np.mean(boot_df.times)\n",
    "    res_boot_sim.append(M)\n",
    "\n",
    "g = sns.displot(res_boot_sim, kind='hist')\n",
    "g.set_axis_labels('bootstrap mean times')"
   ]
  },
  {
   "cell_type": "code",
   "execution_count": 6,
   "metadata": {},
   "outputs": [
    {
     "name": "stdout",
     "output_type": "stream",
     "text": [
      "Lower Limit Boostrap: 6.697500000000001\n",
      "Upper Limit Bootstrap: 142.50499999999997\n"
     ]
    }
   ],
   "source": [
    "# constructing CI from bootstrap\n",
    "# values will vary across resamples as they are randomly generated\n",
    "LL_b = np.quantile(res_boot_sim, 0.025)\n",
    "UL_b = np.quantile(res_boot_sim, 0.975)\n",
    "print(f\"Lower Limit Boostrap: {LL_b}\\nUpper Limit Bootstrap: {UL_b}\")"
   ]
  },
  {
   "cell_type": "code",
   "execution_count": 8,
   "metadata": {},
   "outputs": [
    {
     "name": "stdout",
     "output_type": "stream",
     "text": [
      "Lower Limit Boostrap: 0.0\n",
      "Upper Limit Bootstrap: 0.3\n"
     ]
    }
   ],
   "source": [
    "# event probability bootstrap\n",
    "promise_list = []\n",
    "B = 2000\n",
    "N = len(data_df)\n",
    "for i in range(B):\n",
    "    boot_df = data_df.sample(N, replace=True)\n",
    "    above180 = len(boot_df[boot_df.times >= 180]) / N\n",
    "    promise_list.append(above180)\n",
    "\n",
    "LL_b = np.quantile(promise_list, 0.025)\n",
    "UL_b = np.quantile(promise_list, 0.975)\n",
    "\n",
    "print(f\"Lower Limit Boostrap: {LL_b}\\nUpper Limit Bootstrap: {UL_b}\")"
   ]
  },
  {
   "cell_type": "code",
   "execution_count": 9,
   "metadata": {},
   "outputs": [
    {
     "data": {
      "text/plain": [
       "<seaborn.axisgrid.FacetGrid at 0x7ff41866d940>"
      ]
     },
     "execution_count": 9,
     "metadata": {},
     "output_type": "execute_result"
    },
    {
     "data": {
      "image/png": "[encoded data removed]",
      "text/plain": [
       "<Figure size 500x500 with 1 Axes>"
      ]
     },
     "metadata": {},
     "output_type": "display_data"
    }
   ],
   "source": [
    "sns.displot(promise_list)"
   ]
  },
  {
   "cell_type": "code",
   "execution_count": 11,
   "metadata": {},
   "outputs": [
    {
     "name": "stdout",
     "output_type": "stream",
     "text": [
      "                            OLS Regression Results                            \n",
      "==============================================================================\n",
      "Dep. Variable:                  times   R-squared:                       0.233\n",
      "Model:                            OLS   Adj. R-squared:                  0.137\n",
      "Method:                 Least Squares   F-statistic:                     2.427\n",
      "Date:                Mon, 06 Nov 2023   Prob (F-statistic):              0.158\n",
      "Time:                        10:27:43   Log-Likelihood:                -60.795\n",
      "No. Observations:                  10   AIC:                             125.6\n",
      "Df Residuals:                       8   BIC:                             126.2\n",
      "Df Model:                           1                                         \n",
      "Covariance Type:            nonrobust                                         \n",
      "==============================================================================\n",
      "                 coef    std err          t      P>|t|      [0.025      0.975]\n",
      "------------------------------------------------------------------------------\n",
      "Intercept    132.3891     61.750      2.144      0.064     -10.006     274.784\n",
      "experience    -9.8191      6.302     -1.558      0.158     -24.352       4.714\n",
      "==============================================================================\n",
      "Omnibus:                       13.497   Durbin-Watson:                   1.084\n",
      "Prob(Omnibus):                  0.001   Jarque-Bera (JB):                6.570\n",
      "Skew:                           1.657   Prob(JB):                       0.0374\n",
      "Kurtosis:                       5.188   Cond. No.                         16.3\n",
      "==============================================================================\n",
      "\n",
      "Notes:\n",
      "[1] Standard Errors assume that the covariance matrix of the errors is correctly specified.\n"
     ]
    },
    {
     "name": "stderr",
     "output_type": "stream",
     "text": [
      "/home/beastman/anaconda3/envs/bda/lib/python3.12/site-packages/scipy/stats/_stats_py.py:1806: UserWarning: kurtosistest only valid for n>=20 ... continuing anyway, n=10\n",
      "  warnings.warn(\"kurtosistest only valid for n>=20 ... continuing \"\n"
     ]
    }
   ],
   "source": [
    "print(ols(\"times~experience\", data=data_df).fit().summary())"
   ]
  },
  {
   "cell_type": "code",
   "execution_count": 12,
   "metadata": {},
   "outputs": [
    {
     "name": "stdout",
     "output_type": "stream",
     "text": [
      "Lower Limit Boostrap: -29.463960004001386\n",
      "Upper Limit Bootstrap: -0.160412057815691\n"
     ]
    }
   ],
   "source": [
    "# regression with bootstrap\n",
    "reg_list = []\n",
    "B = 4000\n",
    "N = len(data_df)\n",
    "for i in range(B):\n",
    "    boot_df = data_df.sample(N, replace=True)\n",
    "    lin_mod = ols(\"times~experience\", data=boot_df).fit()\n",
    "    coeff = lin_mod.params['experience']\n",
    "    reg_list.append(coeff)\n",
    "\n",
    "LL_b = np.quantile(reg_list, 0.025)\n",
    "UL_b = np.quantile(reg_list, 0.975)\n",
    "\n",
    "print(f\"Lower Limit Boostrap: {LL_b}\\nUpper Limit Bootstrap: {UL_b}\")"
   ]
  },
  {
   "cell_type": "code",
   "execution_count": 13,
   "metadata": {},
   "outputs": [
    {
     "data": {
      "text/plain": [
       "<seaborn.axisgrid.FacetGrid at 0x7ff4050ecef0>"
      ]
     },
     "execution_count": 13,
     "metadata": {},
     "output_type": "execute_result"
    },
    {
     "data": {
      "image/png": "[encoded data removed]",
      "text/plain": [
       "<Figure size 500x500 with 1 Axes>"
      ]
     },
     "metadata": {},
     "output_type": "display_data"
    }
   ],
   "source": [
    "sns.displot(reg_list)"
   ]
  },
  {
   "cell_type": "code",
   "execution_count": 14,
   "metadata": {},
   "outputs": [
    {
     "data": {
      "text/plain": [
       "0.038"
      ]
     },
     "execution_count": 14,
     "metadata": {},
     "output_type": "execute_result"
    }
   ],
   "source": [
    "p_val = 2 * sum(1 for x in reg_list if x > 0) / B # proportion of coefficients greater than 0 in the bootstrap sample sets\n",
    "p_val"
   ]
  }
 ],
 "metadata": {
  "kernelspec": {
   "display_name": "bda",
   "language": "python",
   "name": "python3"
  },
  "language_info": {
   "codemirror_mode": {
    "name": "ipython",
    "version": 3
   },
   "file_extension": ".py",
   "mimetype": "text/x-python",
   "name": "python",
   "nbconvert_exporter": "python",
   "pygments_lexer": "ipython3",
   "version": "3.12.0"
  }
 },
 "nbformat": 4,
 "nbformat_minor": 2
}
